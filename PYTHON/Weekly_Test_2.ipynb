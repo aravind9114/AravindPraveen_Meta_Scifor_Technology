{
  "nbformat": 4,
  "nbformat_minor": 0,
  "metadata": {
    "colab": {
      "provenance": []
    },
    "kernelspec": {
      "name": "python3",
      "display_name": "Python 3"
    },
    "language_info": {
      "name": "python"
    }
  },
  "cells": [
    {
      "cell_type": "markdown",
      "source": [
        "1Q.Think of a decorator as a wrapper for a function. Imagine you have a function that says “Hello,” but you want it to also say “How are you today?” before the hello message without changing the function itself. A decorator lets you do this by wrapping the original function in another function that adds this extra behavior."
      ],
      "metadata": {
        "id": "ATGpFgxMHw8j"
      }
    },
    {
      "cell_type": "code",
      "execution_count": 1,
      "metadata": {
        "colab": {
          "base_uri": "https://localhost:8080/"
        },
        "id": "yZAn4PwiD8Y4",
        "outputId": "db4b1690-ae29-45d1-fded-d1d2cd0d17d4"
      },
      "outputs": [
        {
          "output_type": "stream",
          "name": "stdout",
          "text": [
            "How are you today?\n",
            "Hello!\n"
          ]
        }
      ],
      "source": [
        "def greet_decorator(func):\n",
        "    def wrapper():\n",
        "        print(\"How are you today?\")\n",
        "        func()\n",
        "    return wrapper\n",
        "@greet_decorator\n",
        "def say_hello():\n",
        "    print(\"Hello!\")\n",
        "say_hello()\n"
      ]
    },
    {
      "cell_type": "markdown",
      "source": [
        "2Q.Method Overloading: Having multiple methods with the same name but different parameters.\n",
        "Method Overriding: Redefining a method in a subclass to change or extend its behavior from the parent class."
      ],
      "metadata": {
        "id": "J--BmLSCHwNU"
      }
    },
    {
      "cell_type": "code",
      "source": [
        "# Method Overloading\n",
        "class Calculator:\n",
        "    def add(self, x, y=0, z=0):\n",
        "        return x + y + z\n",
        "calc = Calculator()\n",
        "print(calc.add(5))\n",
        "print(calc.add(5, 10))\n",
        "print(calc.add(5, 10, 15))\n"
      ],
      "metadata": {
        "colab": {
          "base_uri": "https://localhost:8080/"
        },
        "id": "_Thp73UkI-vd",
        "outputId": "11908981-9207-4c59-bd8d-4343d3796622"
      },
      "execution_count": 2,
      "outputs": [
        {
          "output_type": "stream",
          "name": "stdout",
          "text": [
            "5\n",
            "15\n",
            "30\n"
          ]
        }
      ]
    },
    {
      "cell_type": "code",
      "source": [
        "#Method Overriding\n",
        "class Animal:\n",
        "    def sound(self):\n",
        "        return \"Some generic animal sound\"\n",
        "\n",
        "class Dog(Animal):\n",
        "    def sound(self):\n",
        "        return \"Bark!\"\n",
        "\n",
        "# Testing method overriding\n",
        "animal = Animal()\n",
        "dog = Dog()\n",
        "\n",
        "print(animal.sound())\n",
        "print(dog.sound())\n"
      ],
      "metadata": {
        "colab": {
          "base_uri": "https://localhost:8080/"
        },
        "id": "d5tbHV4HJQX2",
        "outputId": "6432ac37-32b7-4520-dc8b-8974b560773f"
      },
      "execution_count": 3,
      "outputs": [
        {
          "output_type": "stream",
          "name": "stdout",
          "text": [
            "Some generic animal sound\n",
            "Bark!\n"
          ]
        }
      ]
    },
    {
      "cell_type": "code",
      "source": [
        "# 3Q.\n",
        "class Parent:\n",
        "    def func1(self):\n",
        "        print(\"This is Parent class\")\n",
        "\n",
        "class Child1(Parent):\n",
        "    def func2(self):\n",
        "        print(\"This is Child1 class\")\n",
        "\n",
        "class Child2(Parent):\n",
        "    def func3(self):\n",
        "        print(\"This is Child2 class\")\n",
        "\n",
        "class GrandChild(Child1, Child2):\n",
        "    def func4(self):\n",
        "        print(\"This is GrandChild class\")\n",
        "\n",
        "obj = GrandChild()\n",
        "obj.func1()\n",
        "obj.func2()\n",
        "obj.func3()\n",
        "obj.func4()\n"
      ],
      "metadata": {
        "colab": {
          "base_uri": "https://localhost:8080/"
        },
        "id": "5sU7ZapkJgob",
        "outputId": "0519ef46-24ee-4e99-e555-615da8fa65b9"
      },
      "execution_count": 4,
      "outputs": [
        {
          "output_type": "stream",
          "name": "stdout",
          "text": [
            "This is Parent class\n",
            "This is Child1 class\n",
            "This is Child2 class\n",
            "This is GrandChild class\n"
          ]
        }
      ]
    },
    {
      "cell_type": "markdown",
      "source": [
        "5Q.\n",
        "st.button(): Creates a clickable button.\n",
        "\n",
        "st.selectbox(): Creates a dropdown selection box.\n",
        "\n",
        "st.text():Displays fixed-width, preformatted text.\n"
      ],
      "metadata": {
        "id": "vv8YZWtgKEhq"
      }
    },
    {
      "cell_type": "markdown",
      "source": [
        "6Q. Streamlit, session state is used to preserve data across interactions. It's useful for tracking user interactions or data between user actions"
      ],
      "metadata": {
        "id": "FsyW2bpHKsmO"
      }
    },
    {
      "cell_type": "markdown",
      "source": [
        "7Q. streamlit run file_name.py\n"
      ],
      "metadata": {
        "id": "c-DEEwXZK3w7"
      }
    },
    {
      "cell_type": "code",
      "source": [
        "# 8Q.\n",
        "import seaborn as sns\n",
        "import matplotlib.pyplot as plt\n",
        "categories = [\"Apples\",\"Bananas\",\"Cherries\"]\n",
        "values = [5,7,3]\n",
        "pie_values = [40,35,25]\n",
        "pie_labels = [\"A\",\"B\",\"C\"]\n",
        "plt.figure(figsize=(6,4))\n",
        "sns.barplot(x=categories, y=values, color=\"skyblue\")\n",
        "plt.title(\"Bar Chart\")\n",
        "plt.xlabel(\"Fruits\")\n",
        "plt.ylabel(\"Quantity\")\n",
        "plt.show()\n",
        "plt.figure(figsize=(5, 5))\n",
        "plt.pie(pie_values, labels=pie_labels, autopct=\"%1.0f%%\", startangle=90)\n",
        "plt.title(\"Pie Chart\")\n",
        "plt.show()\n"
      ],
      "metadata": {
        "colab": {
          "base_uri": "https://localhost:8080/",
          "height": 837
        },
        "id": "Zmk6HN-UJ92G",
        "outputId": "a7f246b8-5b7f-4414-c1d2-3ab486d475e8"
      },
      "execution_count": 5,
      "outputs": [
        {
          "output_type": "display_data",
          "data": {
            "text/plain": [
              "<Figure size 600x400 with 1 Axes>"
            ],
            "image/png": "[encoded data removed]"
          },
          "metadata": {}
        },
        {
          "output_type": "display_data",
          "data": {
            "text/plain": [
              "<Figure size 500x500 with 1 Axes>"
            ],
            "image/png": "[encoded data removed]"
          },
          "metadata": {}
        }
      ]
    },
    {
      "cell_type": "markdown",
      "source": [
        "4Q.Time Complexity measures how the execution time of an algorithm grows as the input size increases. It's used to predict how efficient an algorithm is, especially when working with large datasets.\n",
        "\n",
        "Space Complexity measures the amount of memory an algorithm requires in relation to the input size. This includes both the input data size and extra memory the algorithm needs to execute."
      ],
      "metadata": {
        "id": "YDCYrKrHL71p"
      }
    },
    {
      "cell_type": "code",
      "source": [],
      "metadata": {
        "id": "SJBhyK7cL0l7"
      },
      "execution_count": null,
      "outputs": []
    }
  ]
}