{
  "nbformat": 4,
  "nbformat_minor": 0,
  "metadata": {
    "colab": {
      "provenance": []
    },
    "kernelspec": {
      "name": "python3",
      "display_name": "Python 3"
    },
    "language_info": {
      "name": "python"
    }
  },
  "cells": [
    {
      "cell_type": "markdown",
      "source": [],
      "metadata": {
        "id": "TypBrGgbWe4b"
      }
    },
    {
      "cell_type": "markdown",
      "source": [
        "1.\n",
        "Python has different types of data, similar to the various things we encounter in everyday life.\n",
        "Integers are whole numbers like 1, 50, or -3, while floats represent numbers with decimal points, such as 3.14 or -0.5.\n",
        "Strings are sequences of text enclosed in quotes, like \"Hello\" or 'Python'. Lists are collections of items, with examples like [1, 2, 3, \"apple\"].\n",
        "Tuples are similar to lists but cannot be changed once created, such as (1, 2, 3).\n",
        "Dictionaries store data in key-value pairs{\"name\": \"John\", \"age\": 30}.\n",
        "sets are collections that, like lists, store multiple items, but only allow unique values, such as {1, 2, 3}\n"
      ],
      "metadata": {
        "id": "60QrCEqJWlBu"
      }
    },
    {
      "cell_type": "markdown",
      "source": [
        "2.\n",
        "Lists are flexible because they’re mutable, meaning you can change them. They are ordered, so the items have a specific arrangement, and they allow duplicates, like [1, 2, 3, 2]. Tuples, on the other hand, are immutable, meaning once you create them, you can't change them. They’re also ordered and can have duplicates, like (1, 2, 3). Sets are mutable, but unlike lists and tuples, they are unordered, meaning the items don’t have a set order, and they only contain unique items, such as {1, 2, 3}.\n"
      ],
      "metadata": {
        "id": "p7fzfKB3WvKl"
      }
    },
    {
      "cell_type": "markdown",
      "source": [
        "3.\n",
        "the try block contains the code that might cause an error, while the except block handles the error if one occurs. If no error happens, the else block runs, and the finally block always executes.\n"
      ],
      "metadata": {
        "id": "F2KYnVVlWy27"
      }
    },
    {
      "cell_type": "markdown",
      "source": [],
      "metadata": {
        "id": "ZdE0APLpXs0i"
      }
    },
    {
      "cell_type": "code",
      "source": [
        "try:\n",
        "     number = 10 / 0\n",
        "except ZeroDivisionError:\n",
        "   print(\"can't divide by zero!\")\n",
        "else:\n",
        "      print(\"success.\")\n",
        "finally:\n",
        "   print(\"This will always run.\")\n"
      ],
      "metadata": {
        "colab": {
          "base_uri": "https://localhost:8080/"
        },
        "id": "WsIZnBtdW4NI",
        "outputId": "798d316c-4102-4fe3-c1d4-c43bddfc4afe"
      },
      "execution_count": 2,
      "outputs": [
        {
          "output_type": "stream",
          "name": "stdout",
          "text": [
            "can't divide by zero!\n",
            "This will always run.\n"
          ]
        }
      ]
    },
    {
      "cell_type": "markdown",
      "source": [],
      "metadata": {
        "id": "wC8fOdTVWszO"
      }
    },
    {
      "cell_type": "markdown",
      "source": [
        "4.\n",
        "a decorator modifies the behavior of a function without changing its code\n"
      ],
      "metadata": {
        "id": "XeGf4tayW-AJ"
      }
    },
    {
      "cell_type": "markdown",
      "source": [],
      "metadata": {
        "id": "Zcki0zxtWigG"
      }
    },
    {
      "cell_type": "code",
      "source": [
        "def decorator_test(func):\n",
        "    def wrapper():\n",
        "        print(\"Something before the function\")\n",
        "        func()\n",
        "        print(\"Something after the function\")\n",
        "    return wrapper\n",
        "\n",
        "@decorator_test\n",
        "def say_hello():\n",
        "    print(\"Hello!\")\n",
        "\n",
        "say_hello()\n"
      ],
      "metadata": {
        "colab": {
          "base_uri": "https://localhost:8080/"
        },
        "id": "wAg2b9jgWcHE",
        "outputId": "279632ae-7801-4547-c1ab-6cec7efc8783"
      },
      "execution_count": 3,
      "outputs": [
        {
          "output_type": "stream",
          "name": "stdout",
          "text": [
            "Something before the function\n",
            "Hello!\n",
            "Something after the function\n"
          ]
        }
      ]
    },
    {
      "cell_type": "code",
      "source": [],
      "metadata": {
        "id": "O6HU17zEXJcu"
      },
      "execution_count": null,
      "outputs": []
    },
    {
      "cell_type": "markdown",
      "source": [
        "5.\n",
        "A lambda function is a quick, one-line function, A lambda function in Python is a small, anonymous function, which means it doesn't have a name like regular functions.\n"
      ],
      "metadata": {
        "id": "77HsgRw2XNnG"
      }
    },
    {
      "cell_type": "code",
      "source": [
        "add = lambda x, y: x + y\n",
        "print(add(3, 5))\n"
      ],
      "metadata": {
        "colab": {
          "base_uri": "https://localhost:8080/"
        },
        "id": "ez6TkySKXOkD",
        "outputId": "253a2090-a05b-4611-a432-fae9a84fe45c"
      },
      "execution_count": 4,
      "outputs": [
        {
          "output_type": "stream",
          "name": "stdout",
          "text": [
            "8\n"
          ]
        }
      ]
    },
    {
      "cell_type": "code",
      "source": [],
      "metadata": {
        "id": "ZMDLhYi6XRQ1"
      },
      "execution_count": null,
      "outputs": []
    },
    {
      "cell_type": "markdown",
      "source": [
        "7.\n",
        "The open() function is used to open a file .\n",
        "The 'r' mode opens the file for reading and is the default mode, while 'w' mode opens the file for writing, overwriting any existing content. The 'a' mode opens the file for writing but appends new content to the end without overwriting existing content. The read() method reads the contents of a file, allowing you to read the entire file or specify the number of characters to read. The write() method adds content to a file, and in write or append mode, you can add text or data.\n"
      ],
      "metadata": {
        "id": "aNW32tJnXSwH"
      }
    },
    {
      "cell_type": "code",
      "source": [
        "file = open(\"file.txt\", \"w\")\n",
        "file.write(\"Hello, World!\")\n",
        "file.close()\n",
        "file = open(\"file.txt\", \"r\")\n",
        "print(file.read())\n",
        "file.close()"
      ],
      "metadata": {
        "id": "Tc8Y0tBRXcD3"
      },
      "execution_count": null,
      "outputs": []
    },
    {
      "cell_type": "markdown",
      "source": [
        "OOP Implementation:"
      ],
      "metadata": {
        "id": "rf3--UB_XeH0"
      }
    },
    {
      "cell_type": "code",
      "source": [],
      "metadata": {
        "id": "ND6XKMebXkIw"
      },
      "execution_count": null,
      "outputs": []
    },
    {
      "cell_type": "markdown",
      "source": [
        "1.\n",
        "Object-Oriented Programming (OOP) is a programming style that structures code using objects, which bundle both data and functions that operate on that data.\n",
        "Encapsulation: restricts direct access to some of the object's components, which helps protect the integrity of the data.\n",
        "Abstraction: Abstraction simplifies complex systems by hiding unnecessary details from the user.\n",
        "Inheritance: This allows a new class, known as a subclass, to inherit properties and methods from an existing class, called a superclass.\n",
        "Polymorphism: single function can work with different types of objects, enabling flexibility in how code is written and utilized.\n"
      ],
      "metadata": {
        "id": "C_YkHa8YXvIB"
      }
    },
    {
      "cell_type": "code",
      "source": [],
      "metadata": {
        "id": "xxuYL9y1XwY8"
      },
      "execution_count": null,
      "outputs": []
    },
    {
      "cell_type": "markdown",
      "source": [
        "2.a class is a blueprint for creating objects,defining the properties and behaviors that those objects will have. An object is an instance of a class that contains real values instead of variables."
      ],
      "metadata": {
        "id": "maf6f_OaX1AL"
      }
    },
    {
      "cell_type": "code",
      "source": [
        "#3. How do you create a class in Python?\n",
        "class Car:\n",
        "    def model(self):\n",
        "        return \"TATA\"\n"
      ],
      "metadata": {
        "id": "TB5IUwLcX7Xo"
      },
      "execution_count": 7,
      "outputs": []
    },
    {
      "cell_type": "markdown",
      "source": [],
      "metadata": {
        "id": "n6d7aKJBX-4N"
      }
    },
    {
      "cell_type": "markdown",
      "source": [
        "4.Instance variables are variables defined within methods and are specific to an instance of a class. Each object can have different values for these variables. Class variables, on the other hand, are shared across all instances of a class, meaning that if one instance modifies a class variable, it affects all instances."
      ],
      "metadata": {
        "id": "lqTFUMF7Ybl8"
      }
    },
    {
      "cell_type": "code",
      "source": [],
      "metadata": {
        "id": "kQXnqVGkYjOr"
      },
      "execution_count": null,
      "outputs": []
    },
    {
      "cell_type": "markdown",
      "source": [
        "5.It initializes new objects of a class by setting up initial values for instance variables when an object is created."
      ],
      "metadata": {
        "id": "RrbdJAzHYqAF"
      }
    },
    {
      "cell_type": "code",
      "source": [
        "class Person:\n",
        "    def __init__(self, name):\n",
        "        self.name = name\n"
      ],
      "metadata": {
        "id": "nEwqzSw-YrS9"
      },
      "execution_count": 8,
      "outputs": []
    },
    {
      "cell_type": "code",
      "source": [],
      "metadata": {
        "id": "j45jbLCyYwA8"
      },
      "execution_count": null,
      "outputs": []
    },
    {
      "cell_type": "markdown",
      "source": [
        "6.self refers to the instance of the class within instance methods, allowing access to instance variables and methods. cls refers to the class itself and is used in class methods to access class variables or methods."
      ],
      "metadata": {
        "id": "sRUdHmamYw-R"
      }
    },
    {
      "cell_type": "code",
      "source": [],
      "metadata": {
        "id": "MwImpsJ4Y7pR"
      },
      "execution_count": null,
      "outputs": []
    },
    {
      "cell_type": "markdown",
      "source": [
        "7.Inheritance allows one class to inherit methods and attributes from another class, enabling code reuse and the creation of a hierarchical relationship between classes."
      ],
      "metadata": {
        "id": "1gPo5eFQZFwO"
      }
    },
    {
      "cell_type": "code",
      "source": [
        "class Animal:\n",
        "    def __init__(self, name):\n",
        "        self.name = name\n",
        "    def speak(self):\n",
        "        print(f\"{self.name} makes a sound.\")\n",
        "class Dog(Animal):\n",
        "    def speak(self):\n",
        "        print(f\"{self.name} barks.\")\n",
        "dog = Dog(\"tommy\")\n",
        "dog.speak()\n"
      ],
      "metadata": {
        "colab": {
          "base_uri": "https://localhost:8080/"
        },
        "id": "MyC38nNGZIQX",
        "outputId": "e6de0e5d-f5b8-44e7-b33a-e7795c683e8b"
      },
      "execution_count": 10,
      "outputs": [
        {
          "output_type": "stream",
          "name": "stdout",
          "text": [
            "tommy barks.\n"
          ]
        }
      ]
    },
    {
      "cell_type": "markdown",
      "source": [
        "8.Method overriding happens when a subclass defines a method with the same name as one in its parent class, but changes how it works.\n",
        "Method overloading refers to creating multiple methods with the same name but different numbers or types of parameters. This allows the same method name to handle different types of inputs."
      ],
      "metadata": {
        "id": "fc0cYFupZ3Y5"
      }
    },
    {
      "cell_type": "code",
      "source": [
        "# Method Overriding\n",
        "class Animal:\n",
        "    def speak(self):\n",
        "        print(\"The animal makes a sound.\")\n",
        "\n",
        "class Dog(Animal):\n",
        "    def speak(self):\n",
        "        print(\"The dog barks.\")\n",
        "\n",
        "dog = Dog()\n",
        "dog.speak()\n"
      ],
      "metadata": {
        "colab": {
          "base_uri": "https://localhost:8080/"
        },
        "id": "tGLlLMs_Zk_2",
        "outputId": "9850ae5d-b792-454b-808b-91016cd97222"
      },
      "execution_count": 11,
      "outputs": [
        {
          "output_type": "stream",
          "name": "stdout",
          "text": [
            "The dog barks.\n"
          ]
        }
      ]
    },
    {
      "cell_type": "code",
      "source": [
        "# overloading\n",
        "class Calc:\n",
        "    def add(self, a, b, c=0):\n",
        "        return a + b + c\n",
        "\n",
        "x = Calc()\n",
        "print(x.add(2, 3))\n",
        "print(x.add(2, 3, 4))\n"
      ],
      "metadata": {
        "colab": {
          "base_uri": "https://localhost:8080/"
        },
        "id": "3JrPpm4DaJ9a",
        "outputId": "7a7eceee-9cac-4dc7-f654-75c35bee9954"
      },
      "execution_count": 12,
      "outputs": [
        {
          "output_type": "stream",
          "name": "stdout",
          "text": [
            "5\n",
            "9\n"
          ]
        }
      ]
    },
    {
      "cell_type": "markdown",
      "source": [
        "9.Multiple inheritance in Python allows a class to inherit from more than one superclass, meaning a subclass can inherit attributes and methods from multiple parent classes. This can be useful when a class needs to combine functionality from different sources.\n",
        "\n",
        "When multiple inheritance is used, Python determines the order in which parent classes are searched for a method or attribute. This is done using the Method Resolution Order (MRO)"
      ],
      "metadata": {
        "id": "0ozth3QDayl6"
      }
    },
    {
      "cell_type": "code",
      "source": [
        "class A:\n",
        "    def say_hello(self):\n",
        "        print(\"Hello from A\")\n",
        "\n",
        "class B:\n",
        "    def say_hello(self):\n",
        "        print(\"Hello from B\")\n",
        "\n",
        "class C(A, B):\n",
        "    pass\n",
        "\n",
        "c = C()\n",
        "c.say_hello()\n",
        "\n"
      ],
      "metadata": {
        "colab": {
          "base_uri": "https://localhost:8080/"
        },
        "id": "Mhdy-rgOaZ9a",
        "outputId": "d9ab53ab-a184-4865-bf46-52d7f9243494"
      },
      "execution_count": 13,
      "outputs": [
        {
          "output_type": "stream",
          "name": "stdout",
          "text": [
            "Hello from A\n"
          ]
        }
      ]
    },
    {
      "cell_type": "markdown",
      "source": [
        "10.Abstract classes are classes that cannot be instantiated and can contain abstract methods, which are methods without implementation.\n",
        "\n",
        "interfaces can be implemented using abstract base classes."
      ],
      "metadata": {
        "id": "JKtNSYz3bLm-"
      }
    },
    {
      "cell_type": "code",
      "source": [
        "from abc import ABC, abstractmethod\n",
        "\n",
        "class Vehicle(ABC):\n",
        "    @abstractmethod\n",
        "    def move(self):\n",
        "        pass\n",
        "class Car(Vehicle):\n",
        "    def move(self):\n",
        "        return \"Car is moving\"\n",
        "class Bike(Vehicle):\n",
        "    def move(self):\n",
        "        return \"Bike is moving\"\n",
        "car = Car()\n",
        "bike = Bike()\n",
        "print(car.move())\n",
        "print(bike.move())\n"
      ],
      "metadata": {
        "colab": {
          "base_uri": "https://localhost:8080/"
        },
        "id": "tK-RssFSbCHI",
        "outputId": "21643ef9-0b58-41fc-ff3e-770621daabd3"
      },
      "execution_count": 14,
      "outputs": [
        {
          "output_type": "stream",
          "name": "stdout",
          "text": [
            "Car is moving\n",
            "Bike is moving\n"
          ]
        }
      ]
    },
    {
      "cell_type": "markdown",
      "source": [
        "11.Polymorphism in Python refers to the ability of different objects to respond to the same method or function in their own way."
      ],
      "metadata": {
        "id": "YClekoiTcLDa"
      }
    },
    {
      "cell_type": "code",
      "source": [
        "class Car:\n",
        "    def move(self):\n",
        "        return \"Car is driving\"\n",
        "class Bicycle:\n",
        "    def move(self):\n",
        "        return \"Bicycle is pedaling\"\n",
        "def vehicle_move(vehicle):\n",
        "    print(vehicle.move())\n",
        "\n",
        "car = Car()\n",
        "bicycle = Bicycle()\n",
        "vehicle_move(car)\n",
        "vehicle_move(bicycle)\n"
      ],
      "metadata": {
        "colab": {
          "base_uri": "https://localhost:8080/"
        },
        "id": "ugJcf59Xb2-l",
        "outputId": "e336eeb7-33bc-4168-b212-8ef833d332e8"
      },
      "execution_count": 15,
      "outputs": [
        {
          "output_type": "stream",
          "name": "stdout",
          "text": [
            "Car is driving\n",
            "Bicycle is pedaling\n"
          ]
        }
      ]
    },
    {
      "cell_type": "markdown",
      "source": [
        "12.Object-Oriented Programming that restricts direct access to some of an object's components and hides the internal state of the object. This is achieved by defining private variables within a class and providing public methods to access and modify those variables."
      ],
      "metadata": {
        "id": "zNZBY1sRc833"
      }
    },
    {
      "cell_type": "code",
      "source": [
        "class Person:\n",
        "    def __init__(self, name, age):\n",
        "        self.__name = name\n",
        "        self.__age = age\n",
        "\n",
        "    def get_name(self):\n",
        "        return self.__name\n",
        "\n",
        "    def set_name(self, name):\n",
        "        self.__name = name\n",
        "\n",
        "    def get_age(self):\n",
        "        return self.__age\n",
        "\n",
        "    def set_age(self, age):\n",
        "        if age >= 0:\n",
        "            self.__age = age\n",
        "        else:\n",
        "            print(\"Invalid age\")\n",
        "\n",
        "\n",
        "person = Person(\"Aravind\", 26)\n",
        "print(person.get_name())\n",
        "person.set_age(25)\n",
        "print(person.get_age())\n",
        "\n",
        "\n"
      ],
      "metadata": {
        "colab": {
          "base_uri": "https://localhost:8080/"
        },
        "id": "MLqXBn8wclIT",
        "outputId": "5e1b9c8d-60f8-4ec7-b939-d26fcf590bc5"
      },
      "execution_count": 17,
      "outputs": [
        {
          "output_type": "stream",
          "name": "stdout",
          "text": [
            "Aravind\n",
            "25\n"
          ]
        }
      ]
    },
    {
      "cell_type": "markdown",
      "source": [
        "13.Getters are methods that allow you to retrieve the value of a private variable.\n",
        "\n",
        "Setters are methods that allow you to set or modify the value of a private variable."
      ],
      "metadata": {
        "id": "lvcYoLVFdcpg"
      }
    },
    {
      "cell_type": "markdown",
      "source": [],
      "metadata": {
        "id": "eHUEEOYteBsO"
      }
    },
    {
      "cell_type": "code",
      "source": [
        "#14. operator overloading Implementation\n",
        "class Number:\n",
        "    def __init__(self, num):\n",
        "        self.num = num\n",
        "\n",
        "    def __add__(self, x):\n",
        "        return Number(self.num + x.num)\n",
        "\n",
        "\n",
        "num1 = Number(10)\n",
        "num2 = Number(20)\n",
        "result = num1 + num2\n",
        "print(result.num)\n"
      ],
      "metadata": {
        "colab": {
          "base_uri": "https://localhost:8080/"
        },
        "id": "1YCfnFI8deal",
        "outputId": "bc551bc4-3b92-41a0-c923-ff57435f13d7"
      },
      "execution_count": 21,
      "outputs": [
        {
          "output_type": "stream",
          "name": "stdout",
          "text": [
            "30\n"
          ]
        }
      ]
    },
    {
      "cell_type": "code",
      "source": [],
      "metadata": {
        "id": "ivUHe1tZe8cT"
      },
      "execution_count": null,
      "outputs": []
    }
  ]
}