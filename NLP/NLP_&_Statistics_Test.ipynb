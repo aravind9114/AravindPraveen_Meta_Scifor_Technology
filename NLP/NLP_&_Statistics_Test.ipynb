{
  "nbformat": 4,
  "nbformat_minor": 0,
  "metadata": {
    "colab": {
      "provenance": []
    },
    "kernelspec": {
      "name": "python3",
      "display_name": "Python 3"
    },
    "language_info": {
      "name": "python"
    }
  },
  "cells": [
    {
      "cell_type": "markdown",
      "source": [
        "NLP\n",
        "\n",
        "1.Write a program of text processing\n",
        "\n",
        "2.Write a program to implement NLP based upon spacy\n",
        "\n",
        "Statistics\n",
        "\n",
        "Difference between descriptive and inferential statistics. Write down atleast 10-15 differences"
      ],
      "metadata": {
        "id": "JxUFoYdJYi-W"
      }
    },
    {
      "cell_type": "code",
      "execution_count": 6,
      "metadata": {
        "colab": {
          "base_uri": "https://localhost:8080/"
        },
        "id": "eXGDP9P9Ycq6",
        "outputId": "1df9ea7b-5f9e-4dd7-87fc-959a62f750a0"
      },
      "outputs": [
        {
          "output_type": "stream",
          "name": "stdout",
          "text": [
            "children play outside parent work garden enjoy time run jump around\n"
          ]
        },
        {
          "output_type": "stream",
          "name": "stderr",
          "text": [
            "[nltk_data] Downloading package stopwords to /root/nltk_data...\n",
            "[nltk_data]   Package stopwords is already up-to-date!\n",
            "[nltk_data] Downloading package punkt_tab to /root/nltk_data...\n",
            "[nltk_data]   Package punkt_tab is already up-to-date!\n",
            "[nltk_data] Downloading package wordnet to /root/nltk_data...\n",
            "[nltk_data]   Package wordnet is already up-to-date!\n"
          ]
        }
      ],
      "source": [
        "# 1. Program of text processing\n",
        "from nltk.corpus import stopwords\n",
        "from nltk.tokenize import word_tokenize\n",
        "from nltk.stem import WordNetLemmatizer\n",
        "import nltk\n",
        "nltk.download('stopwords')\n",
        "nltk.download('punkt_tab')\n",
        "nltk.download('wordnet')\n",
        "def clean_text(text):\n",
        "    lemma = WordNetLemmatizer()\n",
        "    stop = set(stopwords.words('english'))\n",
        "    tokens = word_tokenize(text)\n",
        "    alpha_tokens = []\n",
        "    for token in tokens:\n",
        "        if token.isalpha():\n",
        "            alpha_tokens.append(token)\n",
        "    meaningful_tokens = []\n",
        "    for token in alpha_tokens:\n",
        "        token_lower = token.lower()\n",
        "        if token_lower not in stop:\n",
        "            meaningful_tokens.append(token_lower)\n",
        "    lemmatized_tokens = []\n",
        "    for token in meaningful_tokens:\n",
        "      lemmatized_token = lemma.lemmatize(token, pos='v')\n",
        "      lemmatized_tokens.append(lemmatized_token)\n",
        "\n",
        "\n",
        "    cleaned_text = ' '.join(lemmatized_tokens)\n",
        "\n",
        "    return cleaned_text\n",
        "text=\"\"\"The children were playing outside while their parents were working in the garden.\n",
        "They enjoyed their time running and jumping around.\n",
        "\"\"\"\n",
        "result=clean_text(text)\n",
        "print(result)"
      ]
    },
    {
      "cell_type": "code",
      "source": [
        "# 2.program to implement NLP based upon spacy\n",
        "import spacy\n",
        "nlp = spacy.load('en_core_web_sm')\n",
        "\n",
        "def clean_text_spacy(text):\n",
        "    doc = nlp(text)\n",
        "    lemmatized_tokens = []\n",
        "    for token in doc:\n",
        "        if not token.is_stop and token.is_alpha:\n",
        "            lemmatized_tokens.append(token.lemma_)\n",
        "    cleaned_text = ' '.join(lemmatized_tokens)\n",
        "    return cleaned_text\n",
        "text = \"\"\"The children were playing outside while their parents were working in the garden.\n",
        "They enjoyed their time running and jumping around.\"\"\"\n",
        "result = clean_text_spacy(text)\n",
        "print(result)"
      ],
      "metadata": {
        "colab": {
          "base_uri": "https://localhost:8080/"
        },
        "id": "xOb75j28ZH45",
        "outputId": "984cbf02-3487-4b65-f599-43e511bd5f47"
      },
      "execution_count": 7,
      "outputs": [
        {
          "output_type": "stream",
          "name": "stdout",
          "text": [
            "child play outside parent work garden enjoy time run jump\n"
          ]
        }
      ]
    },
    {
      "cell_type": "markdown",
      "source": [
        "**Statistics**\n",
        "\n",
        "**Difference between descriptive and inferential statistics. Write down atleast 10-15 differences.**\n",
        "\n",
        "Descriptive Statistics helps summarize and describe the main features of a\n",
        "dataset, while Inferential Statistics goes further to make predictions or draw conclusions about a population based on a sample of data.\n",
        "\n",
        "Descriptive Statistics is all about presenting the data in an understandable way, while Inferential Statistics is focused on drawing meaningful conclusions from the data.\n",
        "\n",
        "Descriptive Statistics uses basic measures like mean, median, and mode, while Inferential Statistics uses more advanced methods like hypothesis testing and confidence intervals.\n",
        "\n",
        "Descriptive Statistics works directly with raw or summarized data, while Inferential Statistics uses sample data to make inferences about a larger population.\n",
        "\n",
        "Descriptive Statistics can be applied to both sample and population data, while Inferential Statistics specifically applies to sample data.\n",
        "\n",
        "Descriptive Statistics provides clear, exact data without uncertainty, while Inferential Statistics includes an element of probability and uncertainty in its predictions.\n",
        "\n",
        "Descriptive Statistics presents the exact values of data, while Inferential Statistics gives estimates and generalizations about the larger population.\n",
        "\n",
        "Descriptive Statistics is used for exploring and understanding the data, while Inferential Statistics is about testing hypotheses and making predictions.\n",
        "\n",
        "Descriptive Statistics focuses on simple calculations and visual representations of data, while Inferential Statistics involves statistical models and probability theory.\n",
        "\n",
        "Descriptive Statistics helps you summarize and make sense of the data, while Inferential Statistics lets you make broader conclusions from sample data.\n",
        "\n",
        "Descriptive Statistics is more straightforward and easier to understand, while Inferential Statistics is more complex and involves making statistical inferences.\n",
        "\n",
        "Descriptive Statistics shows the characteristics of the dataset, while Inferential Statistics predicts the characteristics of a larger population.\n",
        "\n",
        "Descriptive Statistics offers a snapshot of the data, while Inferential Statistics extends findings to the entire population.\n",
        "\n",
        "Descriptive Statistics includes methods like calculating central tendency, while Inferential Statistics uses advanced techniques like t-tests.\n",
        "\n",
        "Descriptive Statistics is focused on understanding the data at hand, while Inferential Statistics is about making decisions and predictions based on that data."
      ],
      "metadata": {
        "id": "T7qNILCCdrh9"
      }
    },
    {
      "cell_type": "code",
      "source": [],
      "metadata": {
        "id": "kAxECxD3dGlW"
      },
      "execution_count": null,
      "outputs": []
    }
  ]
}