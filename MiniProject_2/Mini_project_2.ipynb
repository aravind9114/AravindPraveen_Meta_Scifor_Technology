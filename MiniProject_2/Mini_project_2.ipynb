{
  "nbformat": 4,
  "nbformat_minor": 0,
  "metadata": {
    "colab": {
      "provenance": []
    },
    "kernelspec": {
      "name": "python3",
      "display_name": "Python 3"
    },
    "language_info": {
      "name": "python"
    }
  },
  "cells": [
    {
      "cell_type": "code",
      "execution_count": 1,
      "metadata": {
        "id": "AyAzNpVkF04M"
      },
      "outputs": [],
      "source": [
        "import warnings\n",
        "warnings.filterwarnings('ignore')\n",
        "\n",
        "import numpy as np\n",
        "import pandas as pd\n",
        "from sklearn.feature_extraction.text import TfidfVectorizer  # For text vectorization\n",
        "from sklearn.model_selection import train_test_split, GridSearchCV  # Splitting data & hyperparameter tuning\n",
        "from sklearn.linear_model import LogisticRegression  # Logistic Regression model\n",
        "from sklearn.metrics import classification_report, confusion_matrix, ConfusionMatrixDisplay  # Evaluation metrics\n",
        "import re  # For text processing\n",
        "from nltk.corpus import stopwords  # Stopword removal\n",
        "from nltk.tokenize import word_tokenize  # Tokenization\n",
        "from nltk.stem import WordNetLemmatizer  # Lemmatization\n",
        "import nltk"
      ]
    },
    {
      "cell_type": "code",
      "source": [
        "from google.colab import drive\n",
        "drive.mount('/content/drive')"
      ],
      "metadata": {
        "colab": {
          "base_uri": "https://localhost:8080/"
        },
        "id": "_Kfo5fcIme3e",
        "outputId": "aa372ec1-3504-45e8-deca-9756a83a133f"
      },
      "execution_count": 2,
      "outputs": [
        {
          "output_type": "stream",
          "name": "stdout",
          "text": [
            "Drive already mounted at /content/drive; to attempt to forcibly remount, call drive.mount(\"/content/drive\", force_remount=True).\n"
          ]
        }
      ]
    },
    {
      "cell_type": "markdown",
      "source": [
        "**About Dataset**\n",
        "\n",
        "Introduction\n",
        "\n",
        "This is a csv file containing 83446 records of email which are labelled as either spam or not-spam. It is formed by combining the 2007 TREC Public Spam Corpus and Enron-Spam Dataset.\n",
        "\n",
        "Columns\n",
        "\n",
        "label\n",
        "\n",
        "'1' indicates that the email is classified as spam.\n",
        "\n",
        "'0' denotes that the email is legitimate (ham).\n",
        "\n",
        "text\n",
        "\n",
        "This column contains the actual content of the email messages."
      ],
      "metadata": {
        "id": "5Ljve7Lcqyja"
      }
    },
    {
      "cell_type": "code",
      "source": [
        "file_path = '/content/drive/My Drive/combined_data.csv'\n",
        "df = pd.read_csv(file_path)\n",
        "print(df.head())"
      ],
      "metadata": {
        "colab": {
          "base_uri": "https://localhost:8080/"
        },
        "id": "UqQBhaeNpMfu",
        "outputId": "3872c3fb-639e-42b6-8f1d-b073118f3f47"
      },
      "execution_count": 3,
      "outputs": [
        {
          "output_type": "stream",
          "name": "stdout",
          "text": [
            "   label                                               text\n",
            "0      1  ounce feather bowl hummingbird opec moment ala...\n",
            "1      1  wulvob get your medircations online qnb ikud v...\n",
            "2      0   computer connection from cnn com wednesday es...\n",
            "3      1  university degree obtain a prosperous future m...\n",
            "4      0  thanks for all your answers guys i know i shou...\n"
          ]
        }
      ]
    },
    {
      "cell_type": "code",
      "source": [
        "df.info()"
      ],
      "metadata": {
        "colab": {
          "base_uri": "https://localhost:8080/"
        },
        "id": "mJLK6CQ9H6MG",
        "outputId": "feb896d0-930a-475b-bfeb-e4788e6666b7"
      },
      "execution_count": 4,
      "outputs": [
        {
          "output_type": "stream",
          "name": "stdout",
          "text": [
            "<class 'pandas.core.frame.DataFrame'>\n",
            "RangeIndex: 83448 entries, 0 to 83447\n",
            "Data columns (total 2 columns):\n",
            " #   Column  Non-Null Count  Dtype \n",
            "---  ------  --------------  ----- \n",
            " 0   label   83448 non-null  int64 \n",
            " 1   text    83448 non-null  object\n",
            "dtypes: int64(1), object(1)\n",
            "memory usage: 1.3+ MB\n"
          ]
        }
      ]
    },
    {
      "cell_type": "code",
      "source": [
        "df.isnull().sum()"
      ],
      "metadata": {
        "colab": {
          "base_uri": "https://localhost:8080/",
          "height": 147
        },
        "id": "vjaoBiEUH5_m",
        "outputId": "e52b9031-32be-4f37-bd92-0f24094ebb3c"
      },
      "execution_count": 5,
      "outputs": [
        {
          "output_type": "execute_result",
          "data": {
            "text/plain": [
              "label    0\n",
              "text     0\n",
              "dtype: int64"
            ],
            "text/html": [
              "<div>\n",
              "<style scoped>\n",
              "    .dataframe tbody tr th:only-of-type {\n",
              "        vertical-align: middle;\n",
              "    }\n",
              "\n",
              "    .dataframe tbody tr th {\n",
              "        vertical-align: top;\n",
              "    }\n",
              "\n",
              "    .dataframe thead th {\n",
              "        text-align: right;\n",
              "    }\n",
              "</style>\n",
              "<table border=\"1\" class=\"dataframe\">\n",
              "  <thead>\n",
              "    <tr style=\"text-align: right;\">\n",
              "      <th></th>\n",
              "      <th>0</th>\n",
              "    </tr>\n",
              "  </thead>\n",
              "  <tbody>\n",
              "    <tr>\n",
              "      <th>label</th>\n",
              "      <td>0</td>\n",
              "    </tr>\n",
              "    <tr>\n",
              "      <th>text</th>\n",
              "      <td>0</td>\n",
              "    </tr>\n",
              "  </tbody>\n",
              "</table>\n",
              "</div><br><label><b>dtype:</b> int64</label>"
            ]
          },
          "metadata": {},
          "execution_count": 5
        }
      ]
    },
    {
      "cell_type": "code",
      "source": [
        "df.duplicated().sum()"
      ],
      "metadata": {
        "colab": {
          "base_uri": "https://localhost:8080/"
        },
        "id": "F5vAf2krIa1E",
        "outputId": "df10c84f-4271-408d-d102-338f45ad17f1"
      },
      "execution_count": 6,
      "outputs": [
        {
          "output_type": "execute_result",
          "data": {
            "text/plain": [
              "0"
            ]
          },
          "metadata": {},
          "execution_count": 6
        }
      ]
    },
    {
      "cell_type": "code",
      "source": [
        "import seaborn as sns\n",
        "import matplotlib.pyplot as plt\n",
        "sns.countplot(x='label', data=df, palette='viridis')\n",
        "plt.title(\"Spam vs. Ham Distribution\")\n",
        "plt.xticks([0, 1], ['Ham', 'Spam'])\n",
        "plt.xlabel(\"Label\")\n",
        "plt.ylabel(\"Count\")\n",
        "plt.show()"
      ],
      "metadata": {
        "colab": {
          "base_uri": "https://localhost:8080/",
          "height": 472
        },
        "id": "sOhB6SJaIasT",
        "outputId": "d212d936-8b1e-4d6f-ee82-14fc4cbfc2da"
      },
      "execution_count": 7,
      "outputs": [
        {
          "output_type": "display_data",
          "data": {
            "text/plain": [
              "<Figure size 640x480 with 1 Axes>"
            ],
            "image/png": "[encoded data removed]"
          },
          "metadata": {}
        }
      ]
    },
    {
      "cell_type": "markdown",
      "source": [
        "The close counts between spam and ham messages suggest that the dataset is fairly balanced.\n",
        "\n",
        "Ham: The count of Ham messages is slightly above 40,000.\n",
        "\n",
        "Spam: The count of Spam messages is slightly below 50,000."
      ],
      "metadata": {
        "id": "dTB8eSNRRcn_"
      }
    },
    {
      "cell_type": "code",
      "source": [
        "nltk.download('stopwords')\n",
        "nltk.download('punkt_tab')\n",
        "nltk.download('wordnet')\n",
        "# Step 1: Text Cleaning Function\n",
        "def clean_text(text):\n",
        "    # Step 1: Create a lemmatizer to simplify words to their base form.\n",
        "    lemma = WordNetLemmatizer()\n",
        "\n",
        "    # Step 2: Get a set of common words (stopwords) to remove from the text.\n",
        "    stop = set(stopwords.words('english'))\n",
        "\n",
        "    # Step 3: Tokenize the text by breaking it into individual words (tokens).\n",
        "    tokens = word_tokenize(text)\n",
        "\n",
        "    # Step 4: Remove any tokens that are not alphabetic (e.g., numbers or symbols).\n",
        "    alpha_tokens = []  # Create an empty list to store alphabetic tokens.\n",
        "    for token in tokens:\n",
        "        if token.isalpha():  # Check if the token contains only letters.\n",
        "            alpha_tokens.append(token)  # Add it to the list if it's alphabetic.\n",
        "\n",
        "    # Step 5: Convert all tokens to lowercase and remove stopwords.\n",
        "    meaningful_tokens = []  # Create a list to store meaningful tokens.\n",
        "    for token in alpha_tokens:\n",
        "        token_lower = token.lower()  # Convert the token to lowercase.\n",
        "        if token_lower not in stop:  # Check if the token is not in the stopword list.\n",
        "            meaningful_tokens.append(token_lower)  # Add it to the list.\n",
        "\n",
        "    # Step 6: Lemmatize each token to convert it to its base form.\n",
        "    lemmatized_tokens = []  # Create a list to store lemmatized tokens.\n",
        "    for token in meaningful_tokens:\n",
        "        lemmatized_token = lemma.lemmatize(token)  # Simplify the token to its base form.\n",
        "        lemmatized_tokens.append(lemmatized_token)  # Add the lemmatized token to the list.\n",
        "\n",
        "    # Step 7: Combine all the cleaned tokens back into a single string.\n",
        "    cleaned_text = ' '.join(lemmatized_tokens)\n",
        "\n",
        "    return cleaned_text\n"
      ],
      "metadata": {
        "colab": {
          "base_uri": "https://localhost:8080/"
        },
        "id": "OF03ynIHnLfK",
        "outputId": "8f66e538-b0fd-4229-91ca-518f16a2a8c5"
      },
      "execution_count": 8,
      "outputs": [
        {
          "output_type": "stream",
          "name": "stderr",
          "text": [
            "[nltk_data] Downloading package stopwords to /root/nltk_data...\n",
            "[nltk_data]   Package stopwords is already up-to-date!\n",
            "[nltk_data] Downloading package punkt_tab to /root/nltk_data...\n",
            "[nltk_data]   Package punkt_tab is already up-to-date!\n",
            "[nltk_data] Downloading package wordnet to /root/nltk_data...\n",
            "[nltk_data]   Package wordnet is already up-to-date!\n"
          ]
        }
      ]
    },
    {
      "cell_type": "code",
      "source": [
        "from tqdm import tqdm\n",
        "tqdm.pandas()\n",
        "df['cleaned_email'] = df['text'].progress_apply(clean_text)"
      ],
      "metadata": {
        "id": "NUoozyDQnLTL",
        "colab": {
          "base_uri": "https://localhost:8080/"
        },
        "outputId": "6d675f81-78e6-47ef-e688-14e385cc1c48"
      },
      "execution_count": 9,
      "outputs": [
        {
          "output_type": "stream",
          "name": "stderr",
          "text": [
            "100%|██████████| 83448/83448 [05:07<00:00, 271.62it/s]\n"
          ]
        }
      ]
    },
    {
      "cell_type": "code",
      "source": [
        "df"
      ],
      "metadata": {
        "colab": {
          "base_uri": "https://localhost:8080/",
          "height": 423
        },
        "id": "EQpj5O0gKbuh",
        "outputId": "78a51592-415f-4da2-9ca9-3cbcc16b9d11"
      },
      "execution_count": 10,
      "outputs": [
        {
          "output_type": "execute_result",
          "data": {
            "text/plain": [
              "       label                                               text  \\\n",
              "0          1  ounce feather bowl hummingbird opec moment ala...   \n",
              "1          1  wulvob get your medircations online qnb ikud v...   \n",
              "2          0   computer connection from cnn com wednesday es...   \n",
              "3          1  university degree obtain a prosperous future m...   \n",
              "4          0  thanks for all your answers guys i know i shou...   \n",
              "...      ...                                                ...   \n",
              "83443      0  hi given a date how do i get the last date of ...   \n",
              "83444      1  now you can order software on cd or download i...   \n",
              "83445      1  dear valued member canadianpharmacy provides a...   \n",
              "83446      0  subscribe change profile contact us long term ...   \n",
              "83447      1  get the most out of life ! viagra has helped m...   \n",
              "\n",
              "                                           cleaned_email  \n",
              "0      ounce feather bowl hummingbird opec moment ala...  \n",
              "1      wulvob get medircations online qnb ikud viagra...  \n",
              "2      computer connection cnn com wednesday escapenu...  \n",
              "3      university degree obtain prosperous future mon...  \n",
              "4      thanks answer guy know checked rsync manual wo...  \n",
              "...                                                  ...  \n",
              "83443  hi given date get last date month data form yy...  \n",
              "83444  order software cd download site immediately de...  \n",
              "83445  dear valued member canadianpharmacy provides w...  \n",
              "83446  subscribe change profile contact u long term e...  \n",
              "83447  get life viagra helped million men good cause ...  \n",
              "\n",
              "[83448 rows x 3 columns]"
            ],
            "text/html": [
              "\n",
              "  <div id=\"df-424ff4de-8bb2-46f9-a24a-622b70e37b6b\" class=\"colab-df-container\">\n",
              "    <div>\n",
              "<style scoped>\n",
              "    .dataframe tbody tr th:only-of-type {\n",
              "        vertical-align: middle;\n",
              "    }\n",
              "\n",
              "    .dataframe tbody tr th {\n",
              "        vertical-align: top;\n",
              "    }\n",
              "\n",
              "    .dataframe thead th {\n",
              "        text-align: right;\n",
              "    }\n",
              "</style>\n",
              "<table border=\"1\" class=\"dataframe\">\n",
              "  <thead>\n",
              "    <tr style=\"text-align: right;\">\n",
              "      <th></th>\n",
              "      <th>label</th>\n",
              "      <th>text</th>\n",
              "      <th>cleaned_email</th>\n",
              "    </tr>\n",
              "  </thead>\n",
              "  <tbody>\n",
              "    <tr>\n",
              "      <th>0</th>\n",
              "      <td>1</td>\n",
              "      <td>ounce feather bowl hummingbird opec moment ala...</td>\n",
              "      <td>ounce feather bowl hummingbird opec moment ala...</td>\n",
              "    </tr>\n",
              "    <tr>\n",
              "      <th>1</th>\n",
              "      <td>1</td>\n",
              "      <td>wulvob get your medircations online qnb ikud v...</td>\n",
              "      <td>wulvob get medircations online qnb ikud viagra...</td>\n",
              "    </tr>\n",
              "    <tr>\n",
              "      <th>2</th>\n",
              "      <td>0</td>\n",
              "      <td>computer connection from cnn com wednesday es...</td>\n",
              "      <td>computer connection cnn com wednesday escapenu...</td>\n",
              "    </tr>\n",
              "    <tr>\n",
              "      <th>3</th>\n",
              "      <td>1</td>\n",
              "      <td>university degree obtain a prosperous future m...</td>\n",
              "      <td>university degree obtain prosperous future mon...</td>\n",
              "    </tr>\n",
              "    <tr>\n",
              "      <th>4</th>\n",
              "      <td>0</td>\n",
              "      <td>thanks for all your answers guys i know i shou...</td>\n",
              "      <td>thanks answer guy know checked rsync manual wo...</td>\n",
              "    </tr>\n",
              "    <tr>\n",
              "      <th>...</th>\n",
              "      <td>...</td>\n",
              "      <td>...</td>\n",
              "      <td>...</td>\n",
              "    </tr>\n",
              "    <tr>\n",
              "      <th>83443</th>\n",
              "      <td>0</td>\n",
              "      <td>hi given a date how do i get the last date of ...</td>\n",
              "      <td>hi given date get last date month data form yy...</td>\n",
              "    </tr>\n",
              "    <tr>\n",
              "      <th>83444</th>\n",
              "      <td>1</td>\n",
              "      <td>now you can order software on cd or download i...</td>\n",
              "      <td>order software cd download site immediately de...</td>\n",
              "    </tr>\n",
              "    <tr>\n",
              "      <th>83445</th>\n",
              "      <td>1</td>\n",
              "      <td>dear valued member canadianpharmacy provides a...</td>\n",
              "      <td>dear valued member canadianpharmacy provides w...</td>\n",
              "    </tr>\n",
              "    <tr>\n",
              "      <th>83446</th>\n",
              "      <td>0</td>\n",
              "      <td>subscribe change profile contact us long term ...</td>\n",
              "      <td>subscribe change profile contact u long term e...</td>\n",
              "    </tr>\n",
              "    <tr>\n",
              "      <th>83447</th>\n",
              "      <td>1</td>\n",
              "      <td>get the most out of life ! viagra has helped m...</td>\n",
              "      <td>get life viagra helped million men good cause ...</td>\n",
              "    </tr>\n",
              "  </tbody>\n",
              "</table>\n",
              "<p>83448 rows × 3 columns</p>\n",
              "</div>\n",
              "    <div class=\"colab-df-buttons\">\n",
              "\n",
              "  <div class=\"colab-df-container\">\n",
              "    <button class=\"colab-df-convert\" onclick=\"convertToInteractive('df-424ff4de-8bb2-46f9-a24a-622b70e37b6b')\"\n",
              "            title=\"Convert this dataframe to an interactive table.\"\n",
              "            style=\"display:none;\">\n",
              "\n",
              "  <svg xmlns=\"http://www.w3.org/2000/svg\" height=\"24px\" viewBox=\"0 -960 960 960\">\n",
              "    <path d=\"M120-120v-720h720v720H120Zm60-500h600v-160H180v160Zm220 220h160v-160H400v160Zm0 220h160v-160H400v160ZM180-400h160v-160H180v160Zm440 0h160v-160H620v160ZM180-180h160v-160H180v160Zm440 0h160v-160H620v160Z\"/>\n",
              "  </svg>\n",
              "    </button>\n",
              "\n",
              "  <style>\n",
              "    .colab-df-container {\n",
              "      display:flex;\n",
              "      gap: 12px;\n",
              "    }\n",
              "\n",
              "    .colab-df-convert {\n",
              "      background-color: #E8F0FE;\n",
              "      border: none;\n",
              "      border-radius: 50%;\n",
              "      cursor: pointer;\n",
              "      display: none;\n",
              "      fill: #1967D2;\n",
              "      height: 32px;\n",
              "      padding: 0 0 0 0;\n",
              "      width: 32px;\n",
              "    }\n",
              "\n",
              "    .colab-df-convert:hover {\n",
              "      background-color: #E2EBFA;\n",
              "      box-shadow: 0px 1px 2px rgba(60, 64, 67, 0.3), 0px 1px 3px 1px rgba(60, 64, 67, 0.15);\n",
              "      fill: #174EA6;\n",
              "    }\n",
              "\n",
              "    .colab-df-buttons div {\n",
              "      margin-bottom: 4px;\n",
              "    }\n",
              "\n",
              "    [theme=dark] .colab-df-convert {\n",
              "      background-color: #3B4455;\n",
              "      fill: #D2E3FC;\n",
              "    }\n",
              "\n",
              "    [theme=dark] .colab-df-convert:hover {\n",
              "      background-color: #434B5C;\n",
              "      box-shadow: 0px 1px 3px 1px rgba(0, 0, 0, 0.15);\n",
              "      filter: drop-shadow(0px 1px 2px rgba(0, 0, 0, 0.3));\n",
              "      fill: #FFFFFF;\n",
              "    }\n",
              "  </style>\n",
              "\n",
              "    <script>\n",
              "      const buttonEl =\n",
              "        document.querySelector('#df-424ff4de-8bb2-46f9-a24a-622b70e37b6b button.colab-df-convert');\n",
              "      buttonEl.style.display =\n",
              "        google.colab.kernel.accessAllowed ? 'block' : 'none';\n",
              "\n",
              "      async function convertToInteractive(key) {\n",
              "        const element = document.querySelector('#df-424ff4de-8bb2-46f9-a24a-622b70e37b6b');\n",
              "        const dataTable =\n",
              "          await google.colab.kernel.invokeFunction('convertToInteractive',\n",
              "                                                    [key], {});\n",
              "        if (!dataTable) return;\n",
              "\n",
              "        const docLinkHtml = 'Like what you see? Visit the ' +\n",
              "          '<a target=\"_blank\" href=https://colab.research.google.com/notebooks/data_table.ipynb>data table notebook</a>'\n",
              "          + ' to learn more about interactive tables.';\n",
              "        element.innerHTML = '';\n",
              "        dataTable['output_type'] = 'display_data';\n",
              "        await google.colab.output.renderOutput(dataTable, element);\n",
              "        const docLink = document.createElement('div');\n",
              "        docLink.innerHTML = docLinkHtml;\n",
              "        element.appendChild(docLink);\n",
              "      }\n",
              "    </script>\n",
              "  </div>\n",
              "\n",
              "\n",
              "<div id=\"df-3ba3230b-c949-4f4f-990c-7b313e2e1ad5\">\n",
              "  <button class=\"colab-df-quickchart\" onclick=\"quickchart('df-3ba3230b-c949-4f4f-990c-7b313e2e1ad5')\"\n",
              "            title=\"Suggest charts\"\n",
              "            style=\"display:none;\">\n",
              "\n",
              "<svg xmlns=\"http://www.w3.org/2000/svg\" height=\"24px\"viewBox=\"0 0 24 24\"\n",
              "     width=\"24px\">\n",
              "    <g>\n",
              "        <path d=\"M19 3H5c-1.1 0-2 .9-2 2v14c0 1.1.9 2 2 2h14c1.1 0 2-.9 2-2V5c0-1.1-.9-2-2-2zM9 17H7v-7h2v7zm4 0h-2V7h2v10zm4 0h-2v-4h2v4z\"/>\n",
              "    </g>\n",
              "</svg>\n",
              "  </button>\n",
              "\n",
              "<style>\n",
              "  .colab-df-quickchart {\n",
              "      --bg-color: #E8F0FE;\n",
              "      --fill-color: #1967D2;\n",
              "      --hover-bg-color: #E2EBFA;\n",
              "      --hover-fill-color: #174EA6;\n",
              "      --disabled-fill-color: #AAA;\n",
              "      --disabled-bg-color: #DDD;\n",
              "  }\n",
              "\n",
              "  [theme=dark] .colab-df-quickchart {\n",
              "      --bg-color: #3B4455;\n",
              "      --fill-color: #D2E3FC;\n",
              "      --hover-bg-color: #434B5C;\n",
              "      --hover-fill-color: #FFFFFF;\n",
              "      --disabled-bg-color: #3B4455;\n",
              "      --disabled-fill-color: #666;\n",
              "  }\n",
              "\n",
              "  .colab-df-quickchart {\n",
              "    background-color: var(--bg-color);\n",
              "    border: none;\n",
              "    border-radius: 50%;\n",
              "    cursor: pointer;\n",
              "    display: none;\n",
              "    fill: var(--fill-color);\n",
              "    height: 32px;\n",
              "    padding: 0;\n",
              "    width: 32px;\n",
              "  }\n",
              "\n",
              "  .colab-df-quickchart:hover {\n",
              "    background-color: var(--hover-bg-color);\n",
              "    box-shadow: 0 1px 2px rgba(60, 64, 67, 0.3), 0 1px 3px 1px rgba(60, 64, 67, 0.15);\n",
              "    fill: var(--button-hover-fill-color);\n",
              "  }\n",
              "\n",
              "  .colab-df-quickchart-complete:disabled,\n",
              "  .colab-df-quickchart-complete:disabled:hover {\n",
              "    background-color: var(--disabled-bg-color);\n",
              "    fill: var(--disabled-fill-color);\n",
              "    box-shadow: none;\n",
              "  }\n",
              "\n",
              "  .colab-df-spinner {\n",
              "    border: 2px solid var(--fill-color);\n",
              "    border-color: transparent;\n",
              "    border-bottom-color: var(--fill-color);\n",
              "    animation:\n",
              "      spin 1s steps(1) infinite;\n",
              "  }\n",
              "\n",
              "  @keyframes spin {\n",
              "    0% {\n",
              "      border-color: transparent;\n",
              "      border-bottom-color: var(--fill-color);\n",
              "      border-left-color: var(--fill-color);\n",
              "    }\n",
              "    20% {\n",
              "      border-color: transparent;\n",
              "      border-left-color: var(--fill-color);\n",
              "      border-top-color: var(--fill-color);\n",
              "    }\n",
              "    30% {\n",
              "      border-color: transparent;\n",
              "      border-left-color: var(--fill-color);\n",
              "      border-top-color: var(--fill-color);\n",
              "      border-right-color: var(--fill-color);\n",
              "    }\n",
              "    40% {\n",
              "      border-color: transparent;\n",
              "      border-right-color: var(--fill-color);\n",
              "      border-top-color: var(--fill-color);\n",
              "    }\n",
              "    60% {\n",
              "      border-color: transparent;\n",
              "      border-right-color: var(--fill-color);\n",
              "    }\n",
              "    80% {\n",
              "      border-color: transparent;\n",
              "      border-right-color: var(--fill-color);\n",
              "      border-bottom-color: var(--fill-color);\n",
              "    }\n",
              "    90% {\n",
              "      border-color: transparent;\n",
              "      border-bottom-color: var(--fill-color);\n",
              "    }\n",
              "  }\n",
              "</style>\n",
              "\n",
              "  <script>\n",
              "    async function quickchart(key) {\n",
              "      const quickchartButtonEl =\n",
              "        document.querySelector('#' + key + ' button');\n",
              "      quickchartButtonEl.disabled = true;  // To prevent multiple clicks.\n",
              "      quickchartButtonEl.classList.add('colab-df-spinner');\n",
              "      try {\n",
              "        const charts = await google.colab.kernel.invokeFunction(\n",
              "            'suggestCharts', [key], {});\n",
              "      } catch (error) {\n",
              "        console.error('Error during call to suggestCharts:', error);\n",
              "      }\n",
              "      quickchartButtonEl.classList.remove('colab-df-spinner');\n",
              "      quickchartButtonEl.classList.add('colab-df-quickchart-complete');\n",
              "    }\n",
              "    (() => {\n",
              "      let quickchartButtonEl =\n",
              "        document.querySelector('#df-3ba3230b-c949-4f4f-990c-7b313e2e1ad5 button');\n",
              "      quickchartButtonEl.style.display =\n",
              "        google.colab.kernel.accessAllowed ? 'block' : 'none';\n",
              "    })();\n",
              "  </script>\n",
              "</div>\n",
              "\n",
              "  <div id=\"id_08e409b2-b55a-4383-bd93-9f84b734ad71\">\n",
              "    <style>\n",
              "      .colab-df-generate {\n",
              "        background-color: #E8F0FE;\n",
              "        border: none;\n",
              "        border-radius: 50%;\n",
              "        cursor: pointer;\n",
              "        display: none;\n",
              "        fill: #1967D2;\n",
              "        height: 32px;\n",
              "        padding: 0 0 0 0;\n",
              "        width: 32px;\n",
              "      }\n",
              "\n",
              "      .colab-df-generate:hover {\n",
              "        background-color: #E2EBFA;\n",
              "        box-shadow: 0px 1px 2px rgba(60, 64, 67, 0.3), 0px 1px 3px 1px rgba(60, 64, 67, 0.15);\n",
              "        fill: #174EA6;\n",
              "      }\n",
              "\n",
              "      [theme=dark] .colab-df-generate {\n",
              "        background-color: #3B4455;\n",
              "        fill: #D2E3FC;\n",
              "      }\n",
              "\n",
              "      [theme=dark] .colab-df-generate:hover {\n",
              "        background-color: #434B5C;\n",
              "        box-shadow: 0px 1px 3px 1px rgba(0, 0, 0, 0.15);\n",
              "        filter: drop-shadow(0px 1px 2px rgba(0, 0, 0, 0.3));\n",
              "        fill: #FFFFFF;\n",
              "      }\n",
              "    </style>\n",
              "    <button class=\"colab-df-generate\" onclick=\"generateWithVariable('df')\"\n",
              "            title=\"Generate code using this dataframe.\"\n",
              "            style=\"display:none;\">\n",
              "\n",
              "  <svg xmlns=\"http://www.w3.org/2000/svg\" height=\"24px\"viewBox=\"0 0 24 24\"\n",
              "       width=\"24px\">\n",
              "    <path d=\"M7,19H8.4L18.45,9,17,7.55,7,17.6ZM5,21V16.75L18.45,3.32a2,2,0,0,1,2.83,0l1.4,1.43a1.91,1.91,0,0,1,.58,1.4,1.91,1.91,0,0,1-.58,1.4L9.25,21ZM18.45,9,17,7.55Zm-12,3A5.31,5.31,0,0,0,4.9,8.1,5.31,5.31,0,0,0,1,6.5,5.31,5.31,0,0,0,4.9,4.9,5.31,5.31,0,0,0,6.5,1,5.31,5.31,0,0,0,8.1,4.9,5.31,5.31,0,0,0,12,6.5,5.46,5.46,0,0,0,6.5,12Z\"/>\n",
              "  </svg>\n",
              "    </button>\n",
              "    <script>\n",
              "      (() => {\n",
              "      const buttonEl =\n",
              "        document.querySelector('#id_08e409b2-b55a-4383-bd93-9f84b734ad71 button.colab-df-generate');\n",
              "      buttonEl.style.display =\n",
              "        google.colab.kernel.accessAllowed ? 'block' : 'none';\n",
              "\n",
              "      buttonEl.onclick = () => {\n",
              "        google.colab.notebook.generateWithVariable('df');\n",
              "      }\n",
              "      })();\n",
              "    </script>\n",
              "  </div>\n",
              "\n",
              "    </div>\n",
              "  </div>\n"
            ],
            "application/vnd.google.colaboratory.intrinsic+json": {
              "type": "dataframe",
              "variable_name": "df",
              "summary": "{\n  \"name\": \"df\",\n  \"rows\": 83448,\n  \"fields\": [\n    {\n      \"column\": \"label\",\n      \"properties\": {\n        \"dtype\": \"number\",\n        \"std\": 0,\n        \"min\": 0,\n        \"max\": 1,\n        \"num_unique_values\": 2,\n        \"samples\": [\n          0,\n          1\n        ],\n        \"semantic_type\": \"\",\n        \"description\": \"\"\n      }\n    },\n    {\n      \"column\": \"text\",\n      \"properties\": {\n        \"dtype\": \"string\",\n        \"num_unique_values\": 83446,\n        \"samples\": [\n          \"so hard that he can't find time to write to his friends escapenumberf take good care of him aescapenumber aescapenumber they also threatened to destroy fire away then since you are up commanded frank tell him without words so hard that he can't find time to write to his friends escapenumberf take good care of him so hard that he can't find time to write to his friends escapenumberf take good care of him bat's word was law in some things so molly had to submit and took boo away bow aescapenumber aescapenumberas if he had outgrown them and wanted something manlier he took to the hated as if he had outgrown them and wanted something manlier he took to the hated aescapenumber aescapenumberdown workwomen but wishes us to pay them well and economize in some other the house if you feel sociable and your evenings are always free come to me him near her and flapped her fan vigorously whenever he was in sight which with a bucket of water are not pleased for charlie is too presuming and you do need someone to help instantly laid away for repairs and its disappointed maker devoted his energies to helping aescapenumber aescapenumberhead wisely listening to my moral remarks mrs laurence and laurie paused for amy's aescapenumber escapelong how does she behave escapenumberf asked phebe longing for news but too grateful ants when their hill is disturbed of course half a dozen amiable souls posted to have you get thin and pale you know peggy was a jolly lass how beautiful it is cried fanny the drawer took up the little gray book which was her pride thinking christie when her hostess returned and found her warmed refreshed aescapenumber aescapenumber don't then emil who had got his breath by this time gave aescapenumber aescapenumberthen giving a great spring he shot through the air and landed safely anguish as she cried was himself again but it was evident that his sufferings were not smile and agile motion of every limb old ben carried the bag in one soon to tell her all about it you are your active life has done much in some ways to make a man warming and fill the kettle i'll see to the boy commanded mrs aescapenumber aescapenumberat work the sewing room was quite irresistible and he made himself aescapenumber aescapenumbereye showed that his love trials did not quite blind him to the comic aunt looked sober at first but he was so cool about it she couldn't from heart disease and the slightest excitement might kill us if pat while he curried lita till her coat shone like satin then drove is absent template better for it though the memory of it is still bitter and the cross aescapenumber aescapenumber i find don't be a with an unsparing hand institution had not yet made its rules as fixed as the laws of the medes aescapenumber aescapenumberuncle henry smiled and cuddled his little niece\",\n          \"bull market report lescapenumberkup adovcurrent escapenumber escapenumber day target price escapenumber escapelong steadily climb for the top this sym is gaining momentum adov have released very hot news check this out theorize and call to your brocker right now \"\n        ],\n        \"semantic_type\": \"\",\n        \"description\": \"\"\n      }\n    },\n    {\n      \"column\": \"cleaned_email\",\n      \"properties\": {\n        \"dtype\": \"string\",\n        \"num_unique_values\": 81559,\n        \"samples\": [\n          \"hi list inform everybody ftp cl debian org running ricardo yanez unsubscribe email debian mirror request list debian org subject unsubscribe trouble contact listmaster list debian org\",\n          \"breaking news ciose friday itec environmental group inc otcbb e c current price volume friday share wiil stock react foliowing news monday thiink wiil jump may want wait late press reiease source itec environmenta group inc itec environmental group inc project continued growth increased revenue connection h muehlstein agreement commitment piastic recyciing corp caiifornia oakdale calif business wire march oo itec environmenta group inc itec ob today announced secured suppiy raw materia major co ector post consumer used beverage container caiifornia wel severa independent source piastic recycling corp caiifornia prcc committed make availabie itec loo miilion pound material per year itec currentiy negotiation miliion financing buiid two pet hdpe fiake manufacturing facility part negotiation company required restructure major portion debt completed early january oo itec first plant capabie producing miliion pound per year construction insta ation start first piant anticipated take approximately four month piant expected fu operational generating revenue within week closing million financing itec obtains working caput necessary build first plant wi positioned produce sell arge quantity pet hdpe fiake itec recentiy entered three year agency agreement h muehlstein co inc pursuant h muehistein act itec exciusive agent purchase saie annualiy million pound itec pet flake post consumer hdpe natura fiake peliets united state canada upon successful compietion first piant company beiieves wil seil approximateiy mi ion pound pet hdpe flake generating approximately oo ooo revenue first year operation ebitda approximateiy oo oo gross profit margin accordance itec business strategy itec second plant wil become operationa second year post financing second year itec expects piants produce approximately miliion pound flake generating approximateiy oo oo revenue ebitda approximately oo gross profit margin customer purchase itec pet hdpe fiake include limited company owen illinois largest manufacturer beverage container usa leading industry duris industry pactive packaging reynoids packaging division karma industry berkeiey industry al ocated california caiifornia arizona approximateiy manufacture packaging product may abie use itec product production itec environmental group itec environmental group offer solution pressing environmenta problem faced public agency private entity invoived recyciing plastic research partnership honeyweil fm itec deveioped successfuily commerciaiized revolutionary new system recyciing piastic container proprietary eco tm system cost less operate us water remove al contaminates odor finished fiake closed loop thus non po uting produce toxic product please watch one trade good luck succesfu trading information within email contains forward ooking statement within meaning section security act section b security exchange act statement express invoive discussion respect prediction expectation belief plan projection objective goal assumption future event performance statement historical fact may forward ooking statement forward ooking statement based expectation estimate projection time statement made involve number risk uncertainty couid cause actual resuits event differ materiaily presentiy anticipated forward ooking statement action may identified use word project foresee expects wi anticipates estimate belief understands statement indicating certain action may could might occur many microcap stock today company additional risk factor worth noting factor inciude arge accumulated deficit arge negative net worth going concern opinion auditor nomina cash position note receivable officer advance officer pay expense revenue recent quarter imited operating history company going need financing financing occur company may able continue going concern case couid ose entire investment factor inciude genus economic business condition abiiity acquire deveiop specific project ability fund operation change consumer business consumption habit factor company ittle contro publisher newsietter represent information contained message state ail material fact omit material fact necessary make statement therein misieading information provided within email pertaining investing stock security must understood information provided investment advice pubiisher newsletter advises al reader subscriber seek advice registered professiona security representative deciding trade stock featured within emai none material within report shal construed kind investment advice soiicitation many company verge bankruptcy lose al money investing stock urge read company sec filing invest publisher newsletter registered vestment advisor subscriber view information herein legal tax accounting investment advice compiiance security act section b pubiisher newsietter contracted receive one hundred thousand ar third party officer director affiiiate shareholder circulation report aware inherent confiict interest resulting compensation due fact paid advertisement without bias party paid u position stock sel anytime without notice couid negative impact price stock causing ose money factua information report gathered pubiic source inciuding imited sec filing company website company press release pubiisher newsletter beiieves information reliabie make guarantee accuracy completeness use materia within emai constitutes acceptance term wish stop future mailing fee wrongfuliy placed membership please go send blank e mai thanks subject stock yahoo com\"\n        ],\n        \"semantic_type\": \"\",\n        \"description\": \"\"\n      }\n    }\n  ]\n}"
            }
          },
          "metadata": {},
          "execution_count": 10
        }
      ]
    },
    {
      "cell_type": "code",
      "source": [
        "# Step 2: Feature Engineering\n",
        "# Add new features to help identify spam based on common patterns\n",
        "spam_keywords = [\n",
        "    'free', 'win', 'urgent', 'money', 'offer', 'cash', 'credit',\n",
        "    'limited', 'prize', 'buy now', 'discount', 'act now'\n",
        "]"
      ],
      "metadata": {
        "id": "VwvD_EZWnLHN"
      },
      "execution_count": 11,
      "outputs": []
    },
    {
      "cell_type": "code",
      "source": [
        "# Count the number of spam-related keywords in each email\n",
        "def count_spam_keywords(text):\n",
        "    spam_count = 0\n",
        "\n",
        "    # Iterate through each keyword in the spam_keywords list.\n",
        "    for word in spam_keywords:\n",
        "        # Count how many times the keyword appears in the text.\n",
        "        word_count = text.count(word)\n",
        "        spam_count += word_count\n",
        "\n",
        "    # Return the total number of spam keywords found in the text.\n",
        "    return spam_count\n"
      ],
      "metadata": {
        "id": "r58lnaZZoHHT"
      },
      "execution_count": 12,
      "outputs": []
    },
    {
      "cell_type": "code",
      "source": [
        "def detect_spam_phrases(text):\n",
        "    spam_phrases = ['win cash', 'limited time', 'act now']  # List of spam-related phrases\n",
        "\n",
        "    # Initialize a variable to track if any phrase is found\n",
        "    phrase_found = False\n",
        "\n",
        "    # Loop through each phrase in the spam_phrases list\n",
        "    for phrase in spam_phrases:\n",
        "        # Check if the current phrase is in the text\n",
        "        if phrase in text:\n",
        "            phrase_found = True  # Mark as found if the phrase is in the text\n",
        "            break\n",
        "\n",
        "    return phrase_found\n"
      ],
      "metadata": {
        "id": "oz1FPLHioHEO"
      },
      "execution_count": 13,
      "outputs": []
    },
    {
      "cell_type": "code",
      "source": [
        "def contains_discount(text):\n",
        "    pattern = r'\\b\\d{1,2}% off\\b'\n",
        "\n",
        "    # Use re.search to check if the pattern is found in the text\n",
        "    match = re.search(pattern, text)\n",
        "\n",
        "    # If a match is found, return True; otherwise, return False\n",
        "    if match:\n",
        "        return True\n",
        "    else:\n",
        "        return False"
      ],
      "metadata": {
        "id": "5KLZ2EV3oHB7"
      },
      "execution_count": 14,
      "outputs": []
    },
    {
      "cell_type": "code",
      "source": [
        "df['spam_keyword_count'] = df['cleaned_email'].apply(count_spam_keywords)\n",
        "df['contains_spam_phrases'] = df['cleaned_email'].apply(detect_spam_phrases).astype(int)\n",
        "df['contains_discount'] = df['text'].apply(contains_discount).astype(int)\n",
        "df['total_spam_indicators'] = (\n",
        "    df['spam_keyword_count'] + df['contains_spam_phrases'] + df['contains_discount']\n",
        ")"
      ],
      "metadata": {
        "id": "JfZjJbO_oG_l"
      },
      "execution_count": 15,
      "outputs": []
    },
    {
      "cell_type": "code",
      "source": [
        "df.head(20)"
      ],
      "metadata": {
        "colab": {
          "base_uri": "https://localhost:8080/",
          "height": 919
        },
        "id": "pbpUZ0lRK5ta",
        "outputId": "b841269b-8fb1-4ce2-b49e-a6792be40207"
      },
      "execution_count": 17,
      "outputs": [
        {
          "output_type": "execute_result",
          "data": {
            "text/plain": [
              "    label                                               text  \\\n",
              "0       1  ounce feather bowl hummingbird opec moment ala...   \n",
              "1       1  wulvob get your medircations online qnb ikud v...   \n",
              "2       0   computer connection from cnn com wednesday es...   \n",
              "3       1  university degree obtain a prosperous future m...   \n",
              "4       0  thanks for all your answers guys i know i shou...   \n",
              "5       0  larry king live at escapenumber escapenumber p...   \n",
              "6       0  michael pobega wrote i'm not sure if it's the ...   \n",
              "7       0  hi i have this error tr sample escapenumber es...   \n",
              "8       1  works gateway world art explore tattooing full...   \n",
              "9       1  upon this account he is not only very cautious...   \n",
              "10      1  my dear fellow do you feel insecure about your...   \n",
              "11      1  dear valued member its your therapists assis...   \n",
              "12      1  oem software means no dvd cd no packing case n...   \n",
              "13      1  hello , welcome to pharmo attached nline sho l...   \n",
              "14      1  elaborados con las mejores materias primas des...   \n",
              "15      1  cnnmoney the opportunity for functional bevera...   \n",
              "16      0  trinidadian police tell the associated press t...   \n",
              "17      1  microsoft software at superb prices : but how ...   \n",
              "18      1  viii russia the great northern expeditionwrith...   \n",
              "19      0  author idra date escapenumber escapenumber esc...   \n",
              "\n",
              "                                        cleaned_email  spam_keyword_count  \\\n",
              "0   ounce feather bowl hummingbird opec moment ala...                   0   \n",
              "1   wulvob get medircations online qnb ikud viagra...                   0   \n",
              "2   computer connection cnn com wednesday escapenu...                   3   \n",
              "3   university degree obtain prosperous future mon...                   2   \n",
              "4   thanks answer guy know checked rsync manual wo...                   0   \n",
              "5   larry king live escapenumber escapenumber p et...                   0   \n",
              "6   michael pobega wrote sure mpl mozilla allow di...                   1   \n",
              "7   hi error tr sample escapenumber escapenumber e...                   0   \n",
              "8   work gateway world art explore tattooing full ...                   0   \n",
              "9   upon account cautious escapenumber men would w...                   0   \n",
              "10  dear fellow feel insecure penis size need new ...                   0   \n",
              "11  dear valued member assistant writing wanted gi...                   1   \n",
              "12  oem software mean dvd cd packing case booklet ...                   5   \n",
              "13  hello welcome pharmo attached nline sho longin...                   1   \n",
              "14  elaborados con la mejores materias prima desar...                   0   \n",
              "15  cnnmoney opportunity functional beverage estim...                   2   \n",
              "16  trinidadian police tell associated press abdel...                   0   \n",
              "17  microsoft software superb price oem software c...                   6   \n",
              "18  viii russia great northern expeditionwrithing ...                   0   \n",
              "19  author idra date escapenumber escapenumber esc...                   0   \n",
              "\n",
              "    contains_spam_phrases  contains_discount  total_spam_indicators  \n",
              "0                       0                  0                      0  \n",
              "1                       0                  0                      0  \n",
              "2                       0                  0                      3  \n",
              "3                       0                  0                      2  \n",
              "4                       0                  0                      0  \n",
              "5                       0                  0                      0  \n",
              "6                       0                  0                      1  \n",
              "7                       0                  0                      0  \n",
              "8                       0                  0                      0  \n",
              "9                       0                  0                      0  \n",
              "10                      0                  0                      0  \n",
              "11                      0                  0                      1  \n",
              "12                      0                  0                      5  \n",
              "13                      0                  0                      1  \n",
              "14                      0                  0                      0  \n",
              "15                      0                  0                      2  \n",
              "16                      0                  0                      0  \n",
              "17                      0                  0                      6  \n",
              "18                      0                  0                      0  \n",
              "19                      0                  0                      0  "
            ],
            "text/html": [
              "\n",
              "  <div id=\"df-afd85df3-41cc-481b-b61c-aa6f33b13ff9\" class=\"colab-df-container\">\n",
              "    <div>\n",
              "<style scoped>\n",
              "    .dataframe tbody tr th:only-of-type {\n",
              "        vertical-align: middle;\n",
              "    }\n",
              "\n",
              "    .dataframe tbody tr th {\n",
              "        vertical-align: top;\n",
              "    }\n",
              "\n",
              "    .dataframe thead th {\n",
              "        text-align: right;\n",
              "    }\n",
              "</style>\n",
              "<table border=\"1\" class=\"dataframe\">\n",
              "  <thead>\n",
              "    <tr style=\"text-align: right;\">\n",
              "      <th></th>\n",
              "      <th>label</th>\n",
              "      <th>text</th>\n",
              "      <th>cleaned_email</th>\n",
              "      <th>spam_keyword_count</th>\n",
              "      <th>contains_spam_phrases</th>\n",
              "      <th>contains_discount</th>\n",
              "      <th>total_spam_indicators</th>\n",
              "    </tr>\n",
              "  </thead>\n",
              "  <tbody>\n",
              "    <tr>\n",
              "      <th>0</th>\n",
              "      <td>1</td>\n",
              "      <td>ounce feather bowl hummingbird opec moment ala...</td>\n",
              "      <td>ounce feather bowl hummingbird opec moment ala...</td>\n",
              "      <td>0</td>\n",
              "      <td>0</td>\n",
              "      <td>0</td>\n",
              "      <td>0</td>\n",
              "    </tr>\n",
              "    <tr>\n",
              "      <th>1</th>\n",
              "      <td>1</td>\n",
              "      <td>wulvob get your medircations online qnb ikud v...</td>\n",
              "      <td>wulvob get medircations online qnb ikud viagra...</td>\n",
              "      <td>0</td>\n",
              "      <td>0</td>\n",
              "      <td>0</td>\n",
              "      <td>0</td>\n",
              "    </tr>\n",
              "    <tr>\n",
              "      <th>2</th>\n",
              "      <td>0</td>\n",
              "      <td>computer connection from cnn com wednesday es...</td>\n",
              "      <td>computer connection cnn com wednesday escapenu...</td>\n",
              "      <td>3</td>\n",
              "      <td>0</td>\n",
              "      <td>0</td>\n",
              "      <td>3</td>\n",
              "    </tr>\n",
              "    <tr>\n",
              "      <th>3</th>\n",
              "      <td>1</td>\n",
              "      <td>university degree obtain a prosperous future m...</td>\n",
              "      <td>university degree obtain prosperous future mon...</td>\n",
              "      <td>2</td>\n",
              "      <td>0</td>\n",
              "      <td>0</td>\n",
              "      <td>2</td>\n",
              "    </tr>\n",
              "    <tr>\n",
              "      <th>4</th>\n",
              "      <td>0</td>\n",
              "      <td>thanks for all your answers guys i know i shou...</td>\n",
              "      <td>thanks answer guy know checked rsync manual wo...</td>\n",
              "      <td>0</td>\n",
              "      <td>0</td>\n",
              "      <td>0</td>\n",
              "      <td>0</td>\n",
              "    </tr>\n",
              "    <tr>\n",
              "      <th>5</th>\n",
              "      <td>0</td>\n",
              "      <td>larry king live at escapenumber escapenumber p...</td>\n",
              "      <td>larry king live escapenumber escapenumber p et...</td>\n",
              "      <td>0</td>\n",
              "      <td>0</td>\n",
              "      <td>0</td>\n",
              "      <td>0</td>\n",
              "    </tr>\n",
              "    <tr>\n",
              "      <th>6</th>\n",
              "      <td>0</td>\n",
              "      <td>michael pobega wrote i'm not sure if it's the ...</td>\n",
              "      <td>michael pobega wrote sure mpl mozilla allow di...</td>\n",
              "      <td>1</td>\n",
              "      <td>0</td>\n",
              "      <td>0</td>\n",
              "      <td>1</td>\n",
              "    </tr>\n",
              "    <tr>\n",
              "      <th>7</th>\n",
              "      <td>0</td>\n",
              "      <td>hi i have this error tr sample escapenumber es...</td>\n",
              "      <td>hi error tr sample escapenumber escapenumber e...</td>\n",
              "      <td>0</td>\n",
              "      <td>0</td>\n",
              "      <td>0</td>\n",
              "      <td>0</td>\n",
              "    </tr>\n",
              "    <tr>\n",
              "      <th>8</th>\n",
              "      <td>1</td>\n",
              "      <td>works gateway world art explore tattooing full...</td>\n",
              "      <td>work gateway world art explore tattooing full ...</td>\n",
              "      <td>0</td>\n",
              "      <td>0</td>\n",
              "      <td>0</td>\n",
              "      <td>0</td>\n",
              "    </tr>\n",
              "    <tr>\n",
              "      <th>9</th>\n",
              "      <td>1</td>\n",
              "      <td>upon this account he is not only very cautious...</td>\n",
              "      <td>upon account cautious escapenumber men would w...</td>\n",
              "      <td>0</td>\n",
              "      <td>0</td>\n",
              "      <td>0</td>\n",
              "      <td>0</td>\n",
              "    </tr>\n",
              "    <tr>\n",
              "      <th>10</th>\n",
              "      <td>1</td>\n",
              "      <td>my dear fellow do you feel insecure about your...</td>\n",
              "      <td>dear fellow feel insecure penis size need new ...</td>\n",
              "      <td>0</td>\n",
              "      <td>0</td>\n",
              "      <td>0</td>\n",
              "      <td>0</td>\n",
              "    </tr>\n",
              "    <tr>\n",
              "      <th>11</th>\n",
              "      <td>1</td>\n",
              "      <td>dear valued member its your therapists assis...</td>\n",
              "      <td>dear valued member assistant writing wanted gi...</td>\n",
              "      <td>1</td>\n",
              "      <td>0</td>\n",
              "      <td>0</td>\n",
              "      <td>1</td>\n",
              "    </tr>\n",
              "    <tr>\n",
              "      <th>12</th>\n",
              "      <td>1</td>\n",
              "      <td>oem software means no dvd cd no packing case n...</td>\n",
              "      <td>oem software mean dvd cd packing case booklet ...</td>\n",
              "      <td>5</td>\n",
              "      <td>0</td>\n",
              "      <td>0</td>\n",
              "      <td>5</td>\n",
              "    </tr>\n",
              "    <tr>\n",
              "      <th>13</th>\n",
              "      <td>1</td>\n",
              "      <td>hello , welcome to pharmo attached nline sho l...</td>\n",
              "      <td>hello welcome pharmo attached nline sho longin...</td>\n",
              "      <td>1</td>\n",
              "      <td>0</td>\n",
              "      <td>0</td>\n",
              "      <td>1</td>\n",
              "    </tr>\n",
              "    <tr>\n",
              "      <th>14</th>\n",
              "      <td>1</td>\n",
              "      <td>elaborados con las mejores materias primas des...</td>\n",
              "      <td>elaborados con la mejores materias prima desar...</td>\n",
              "      <td>0</td>\n",
              "      <td>0</td>\n",
              "      <td>0</td>\n",
              "      <td>0</td>\n",
              "    </tr>\n",
              "    <tr>\n",
              "      <th>15</th>\n",
              "      <td>1</td>\n",
              "      <td>cnnmoney the opportunity for functional bevera...</td>\n",
              "      <td>cnnmoney opportunity functional beverage estim...</td>\n",
              "      <td>2</td>\n",
              "      <td>0</td>\n",
              "      <td>0</td>\n",
              "      <td>2</td>\n",
              "    </tr>\n",
              "    <tr>\n",
              "      <th>16</th>\n",
              "      <td>0</td>\n",
              "      <td>trinidadian police tell the associated press t...</td>\n",
              "      <td>trinidadian police tell associated press abdel...</td>\n",
              "      <td>0</td>\n",
              "      <td>0</td>\n",
              "      <td>0</td>\n",
              "      <td>0</td>\n",
              "    </tr>\n",
              "    <tr>\n",
              "      <th>17</th>\n",
              "      <td>1</td>\n",
              "      <td>microsoft software at superb prices : but how ...</td>\n",
              "      <td>microsoft software superb price oem software c...</td>\n",
              "      <td>6</td>\n",
              "      <td>0</td>\n",
              "      <td>0</td>\n",
              "      <td>6</td>\n",
              "    </tr>\n",
              "    <tr>\n",
              "      <th>18</th>\n",
              "      <td>1</td>\n",
              "      <td>viii russia the great northern expeditionwrith...</td>\n",
              "      <td>viii russia great northern expeditionwrithing ...</td>\n",
              "      <td>0</td>\n",
              "      <td>0</td>\n",
              "      <td>0</td>\n",
              "      <td>0</td>\n",
              "    </tr>\n",
              "    <tr>\n",
              "      <th>19</th>\n",
              "      <td>0</td>\n",
              "      <td>author idra date escapenumber escapenumber esc...</td>\n",
              "      <td>author idra date escapenumber escapenumber esc...</td>\n",
              "      <td>0</td>\n",
              "      <td>0</td>\n",
              "      <td>0</td>\n",
              "      <td>0</td>\n",
              "    </tr>\n",
              "  </tbody>\n",
              "</table>\n",
              "</div>\n",
              "    <div class=\"colab-df-buttons\">\n",
              "\n",
              "  <div class=\"colab-df-container\">\n",
              "    <button class=\"colab-df-convert\" onclick=\"convertToInteractive('df-afd85df3-41cc-481b-b61c-aa6f33b13ff9')\"\n",
              "            title=\"Convert this dataframe to an interactive table.\"\n",
              "            style=\"display:none;\">\n",
              "\n",
              "  <svg xmlns=\"http://www.w3.org/2000/svg\" height=\"24px\" viewBox=\"0 -960 960 960\">\n",
              "    <path d=\"M120-120v-720h720v720H120Zm60-500h600v-160H180v160Zm220 220h160v-160H400v160Zm0 220h160v-160H400v160ZM180-400h160v-160H180v160Zm440 0h160v-160H620v160ZM180-180h160v-160H180v160Zm440 0h160v-160H620v160Z\"/>\n",
              "  </svg>\n",
              "    </button>\n",
              "\n",
              "  <style>\n",
              "    .colab-df-container {\n",
              "      display:flex;\n",
              "      gap: 12px;\n",
              "    }\n",
              "\n",
              "    .colab-df-convert {\n",
              "      background-color: #E8F0FE;\n",
              "      border: none;\n",
              "      border-radius: 50%;\n",
              "      cursor: pointer;\n",
              "      display: none;\n",
              "      fill: #1967D2;\n",
              "      height: 32px;\n",
              "      padding: 0 0 0 0;\n",
              "      width: 32px;\n",
              "    }\n",
              "\n",
              "    .colab-df-convert:hover {\n",
              "      background-color: #E2EBFA;\n",
              "      box-shadow: 0px 1px 2px rgba(60, 64, 67, 0.3), 0px 1px 3px 1px rgba(60, 64, 67, 0.15);\n",
              "      fill: #174EA6;\n",
              "    }\n",
              "\n",
              "    .colab-df-buttons div {\n",
              "      margin-bottom: 4px;\n",
              "    }\n",
              "\n",
              "    [theme=dark] .colab-df-convert {\n",
              "      background-color: #3B4455;\n",
              "      fill: #D2E3FC;\n",
              "    }\n",
              "\n",
              "    [theme=dark] .colab-df-convert:hover {\n",
              "      background-color: #434B5C;\n",
              "      box-shadow: 0px 1px 3px 1px rgba(0, 0, 0, 0.15);\n",
              "      filter: drop-shadow(0px 1px 2px rgba(0, 0, 0, 0.3));\n",
              "      fill: #FFFFFF;\n",
              "    }\n",
              "  </style>\n",
              "\n",
              "    <script>\n",
              "      const buttonEl =\n",
              "        document.querySelector('#df-afd85df3-41cc-481b-b61c-aa6f33b13ff9 button.colab-df-convert');\n",
              "      buttonEl.style.display =\n",
              "        google.colab.kernel.accessAllowed ? 'block' : 'none';\n",
              "\n",
              "      async function convertToInteractive(key) {\n",
              "        const element = document.querySelector('#df-afd85df3-41cc-481b-b61c-aa6f33b13ff9');\n",
              "        const dataTable =\n",
              "          await google.colab.kernel.invokeFunction('convertToInteractive',\n",
              "                                                    [key], {});\n",
              "        if (!dataTable) return;\n",
              "\n",
              "        const docLinkHtml = 'Like what you see? Visit the ' +\n",
              "          '<a target=\"_blank\" href=https://colab.research.google.com/notebooks/data_table.ipynb>data table notebook</a>'\n",
              "          + ' to learn more about interactive tables.';\n",
              "        element.innerHTML = '';\n",
              "        dataTable['output_type'] = 'display_data';\n",
              "        await google.colab.output.renderOutput(dataTable, element);\n",
              "        const docLink = document.createElement('div');\n",
              "        docLink.innerHTML = docLinkHtml;\n",
              "        element.appendChild(docLink);\n",
              "      }\n",
              "    </script>\n",
              "  </div>\n",
              "\n",
              "\n",
              "<div id=\"df-2e1f5e91-19fa-4d0c-abb7-baea5c1c02de\">\n",
              "  <button class=\"colab-df-quickchart\" onclick=\"quickchart('df-2e1f5e91-19fa-4d0c-abb7-baea5c1c02de')\"\n",
              "            title=\"Suggest charts\"\n",
              "            style=\"display:none;\">\n",
              "\n",
              "<svg xmlns=\"http://www.w3.org/2000/svg\" height=\"24px\"viewBox=\"0 0 24 24\"\n",
              "     width=\"24px\">\n",
              "    <g>\n",
              "        <path d=\"M19 3H5c-1.1 0-2 .9-2 2v14c0 1.1.9 2 2 2h14c1.1 0 2-.9 2-2V5c0-1.1-.9-2-2-2zM9 17H7v-7h2v7zm4 0h-2V7h2v10zm4 0h-2v-4h2v4z\"/>\n",
              "    </g>\n",
              "</svg>\n",
              "  </button>\n",
              "\n",
              "<style>\n",
              "  .colab-df-quickchart {\n",
              "      --bg-color: #E8F0FE;\n",
              "      --fill-color: #1967D2;\n",
              "      --hover-bg-color: #E2EBFA;\n",
              "      --hover-fill-color: #174EA6;\n",
              "      --disabled-fill-color: #AAA;\n",
              "      --disabled-bg-color: #DDD;\n",
              "  }\n",
              "\n",
              "  [theme=dark] .colab-df-quickchart {\n",
              "      --bg-color: #3B4455;\n",
              "      --fill-color: #D2E3FC;\n",
              "      --hover-bg-color: #434B5C;\n",
              "      --hover-fill-color: #FFFFFF;\n",
              "      --disabled-bg-color: #3B4455;\n",
              "      --disabled-fill-color: #666;\n",
              "  }\n",
              "\n",
              "  .colab-df-quickchart {\n",
              "    background-color: var(--bg-color);\n",
              "    border: none;\n",
              "    border-radius: 50%;\n",
              "    cursor: pointer;\n",
              "    display: none;\n",
              "    fill: var(--fill-color);\n",
              "    height: 32px;\n",
              "    padding: 0;\n",
              "    width: 32px;\n",
              "  }\n",
              "\n",
              "  .colab-df-quickchart:hover {\n",
              "    background-color: var(--hover-bg-color);\n",
              "    box-shadow: 0 1px 2px rgba(60, 64, 67, 0.3), 0 1px 3px 1px rgba(60, 64, 67, 0.15);\n",
              "    fill: var(--button-hover-fill-color);\n",
              "  }\n",
              "\n",
              "  .colab-df-quickchart-complete:disabled,\n",
              "  .colab-df-quickchart-complete:disabled:hover {\n",
              "    background-color: var(--disabled-bg-color);\n",
              "    fill: var(--disabled-fill-color);\n",
              "    box-shadow: none;\n",
              "  }\n",
              "\n",
              "  .colab-df-spinner {\n",
              "    border: 2px solid var(--fill-color);\n",
              "    border-color: transparent;\n",
              "    border-bottom-color: var(--fill-color);\n",
              "    animation:\n",
              "      spin 1s steps(1) infinite;\n",
              "  }\n",
              "\n",
              "  @keyframes spin {\n",
              "    0% {\n",
              "      border-color: transparent;\n",
              "      border-bottom-color: var(--fill-color);\n",
              "      border-left-color: var(--fill-color);\n",
              "    }\n",
              "    20% {\n",
              "      border-color: transparent;\n",
              "      border-left-color: var(--fill-color);\n",
              "      border-top-color: var(--fill-color);\n",
              "    }\n",
              "    30% {\n",
              "      border-color: transparent;\n",
              "      border-left-color: var(--fill-color);\n",
              "      border-top-color: var(--fill-color);\n",
              "      border-right-color: var(--fill-color);\n",
              "    }\n",
              "    40% {\n",
              "      border-color: transparent;\n",
              "      border-right-color: var(--fill-color);\n",
              "      border-top-color: var(--fill-color);\n",
              "    }\n",
              "    60% {\n",
              "      border-color: transparent;\n",
              "      border-right-color: var(--fill-color);\n",
              "    }\n",
              "    80% {\n",
              "      border-color: transparent;\n",
              "      border-right-color: var(--fill-color);\n",
              "      border-bottom-color: var(--fill-color);\n",
              "    }\n",
              "    90% {\n",
              "      border-color: transparent;\n",
              "      border-bottom-color: var(--fill-color);\n",
              "    }\n",
              "  }\n",
              "</style>\n",
              "\n",
              "  <script>\n",
              "    async function quickchart(key) {\n",
              "      const quickchartButtonEl =\n",
              "        document.querySelector('#' + key + ' button');\n",
              "      quickchartButtonEl.disabled = true;  // To prevent multiple clicks.\n",
              "      quickchartButtonEl.classList.add('colab-df-spinner');\n",
              "      try {\n",
              "        const charts = await google.colab.kernel.invokeFunction(\n",
              "            'suggestCharts', [key], {});\n",
              "      } catch (error) {\n",
              "        console.error('Error during call to suggestCharts:', error);\n",
              "      }\n",
              "      quickchartButtonEl.classList.remove('colab-df-spinner');\n",
              "      quickchartButtonEl.classList.add('colab-df-quickchart-complete');\n",
              "    }\n",
              "    (() => {\n",
              "      let quickchartButtonEl =\n",
              "        document.querySelector('#df-2e1f5e91-19fa-4d0c-abb7-baea5c1c02de button');\n",
              "      quickchartButtonEl.style.display =\n",
              "        google.colab.kernel.accessAllowed ? 'block' : 'none';\n",
              "    })();\n",
              "  </script>\n",
              "</div>\n",
              "\n",
              "    </div>\n",
              "  </div>\n"
            ],
            "application/vnd.google.colaboratory.intrinsic+json": {
              "type": "dataframe",
              "variable_name": "df",
              "summary": "{\n  \"name\": \"df\",\n  \"rows\": 83448,\n  \"fields\": [\n    {\n      \"column\": \"label\",\n      \"properties\": {\n        \"dtype\": \"number\",\n        \"std\": 0,\n        \"min\": 0,\n        \"max\": 1,\n        \"num_unique_values\": 2,\n        \"samples\": [\n          0,\n          1\n        ],\n        \"semantic_type\": \"\",\n        \"description\": \"\"\n      }\n    },\n    {\n      \"column\": \"text\",\n      \"properties\": {\n        \"dtype\": \"string\",\n        \"num_unique_values\": 83446,\n        \"samples\": [\n          \"so hard that he can't find time to write to his friends escapenumberf take good care of him aescapenumber aescapenumber they also threatened to destroy fire away then since you are up commanded frank tell him without words so hard that he can't find time to write to his friends escapenumberf take good care of him so hard that he can't find time to write to his friends escapenumberf take good care of him bat's word was law in some things so molly had to submit and took boo away bow aescapenumber aescapenumberas if he had outgrown them and wanted something manlier he took to the hated as if he had outgrown them and wanted something manlier he took to the hated aescapenumber aescapenumberdown workwomen but wishes us to pay them well and economize in some other the house if you feel sociable and your evenings are always free come to me him near her and flapped her fan vigorously whenever he was in sight which with a bucket of water are not pleased for charlie is too presuming and you do need someone to help instantly laid away for repairs and its disappointed maker devoted his energies to helping aescapenumber aescapenumberhead wisely listening to my moral remarks mrs laurence and laurie paused for amy's aescapenumber escapelong how does she behave escapenumberf asked phebe longing for news but too grateful ants when their hill is disturbed of course half a dozen amiable souls posted to have you get thin and pale you know peggy was a jolly lass how beautiful it is cried fanny the drawer took up the little gray book which was her pride thinking christie when her hostess returned and found her warmed refreshed aescapenumber aescapenumber don't then emil who had got his breath by this time gave aescapenumber aescapenumberthen giving a great spring he shot through the air and landed safely anguish as she cried was himself again but it was evident that his sufferings were not smile and agile motion of every limb old ben carried the bag in one soon to tell her all about it you are your active life has done much in some ways to make a man warming and fill the kettle i'll see to the boy commanded mrs aescapenumber aescapenumberat work the sewing room was quite irresistible and he made himself aescapenumber aescapenumbereye showed that his love trials did not quite blind him to the comic aunt looked sober at first but he was so cool about it she couldn't from heart disease and the slightest excitement might kill us if pat while he curried lita till her coat shone like satin then drove is absent template better for it though the memory of it is still bitter and the cross aescapenumber aescapenumber i find don't be a with an unsparing hand institution had not yet made its rules as fixed as the laws of the medes aescapenumber aescapenumberuncle henry smiled and cuddled his little niece\",\n          \"bull market report lescapenumberkup adovcurrent escapenumber escapenumber day target price escapenumber escapelong steadily climb for the top this sym is gaining momentum adov have released very hot news check this out theorize and call to your brocker right now \"\n        ],\n        \"semantic_type\": \"\",\n        \"description\": \"\"\n      }\n    },\n    {\n      \"column\": \"cleaned_email\",\n      \"properties\": {\n        \"dtype\": \"string\",\n        \"num_unique_values\": 81559,\n        \"samples\": [\n          \"hi list inform everybody ftp cl debian org running ricardo yanez unsubscribe email debian mirror request list debian org subject unsubscribe trouble contact listmaster list debian org\",\n          \"breaking news ciose friday itec environmental group inc otcbb e c current price volume friday share wiil stock react foliowing news monday thiink wiil jump may want wait late press reiease source itec environmenta group inc itec environmental group inc project continued growth increased revenue connection h muehlstein agreement commitment piastic recyciing corp caiifornia oakdale calif business wire march oo itec environmenta group inc itec ob today announced secured suppiy raw materia major co ector post consumer used beverage container caiifornia wel severa independent source piastic recycling corp caiifornia prcc committed make availabie itec loo miilion pound material per year itec currentiy negotiation miliion financing buiid two pet hdpe fiake manufacturing facility part negotiation company required restructure major portion debt completed early january oo itec first plant capabie producing miliion pound per year construction insta ation start first piant anticipated take approximately four month piant expected fu operational generating revenue within week closing million financing itec obtains working caput necessary build first plant wi positioned produce sell arge quantity pet hdpe fiake itec recentiy entered three year agency agreement h muehlstein co inc pursuant h muehistein act itec exciusive agent purchase saie annualiy million pound itec pet flake post consumer hdpe natura fiake peliets united state canada upon successful compietion first piant company beiieves wil seil approximateiy mi ion pound pet hdpe flake generating approximately oo ooo revenue first year operation ebitda approximateiy oo oo gross profit margin accordance itec business strategy itec second plant wil become operationa second year post financing second year itec expects piants produce approximately miliion pound flake generating approximateiy oo oo revenue ebitda approximately oo gross profit margin customer purchase itec pet hdpe fiake include limited company owen illinois largest manufacturer beverage container usa leading industry duris industry pactive packaging reynoids packaging division karma industry berkeiey industry al ocated california caiifornia arizona approximateiy manufacture packaging product may abie use itec product production itec environmental group itec environmental group offer solution pressing environmenta problem faced public agency private entity invoived recyciing plastic research partnership honeyweil fm itec deveioped successfuily commerciaiized revolutionary new system recyciing piastic container proprietary eco tm system cost less operate us water remove al contaminates odor finished fiake closed loop thus non po uting produce toxic product please watch one trade good luck succesfu trading information within email contains forward ooking statement within meaning section security act section b security exchange act statement express invoive discussion respect prediction expectation belief plan projection objective goal assumption future event performance statement historical fact may forward ooking statement forward ooking statement based expectation estimate projection time statement made involve number risk uncertainty couid cause actual resuits event differ materiaily presentiy anticipated forward ooking statement action may identified use word project foresee expects wi anticipates estimate belief understands statement indicating certain action may could might occur many microcap stock today company additional risk factor worth noting factor inciude arge accumulated deficit arge negative net worth going concern opinion auditor nomina cash position note receivable officer advance officer pay expense revenue recent quarter imited operating history company going need financing financing occur company may able continue going concern case couid ose entire investment factor inciude genus economic business condition abiiity acquire deveiop specific project ability fund operation change consumer business consumption habit factor company ittle contro publisher newsietter represent information contained message state ail material fact omit material fact necessary make statement therein misieading information provided within email pertaining investing stock security must understood information provided investment advice pubiisher newsletter advises al reader subscriber seek advice registered professiona security representative deciding trade stock featured within emai none material within report shal construed kind investment advice soiicitation many company verge bankruptcy lose al money investing stock urge read company sec filing invest publisher newsletter registered vestment advisor subscriber view information herein legal tax accounting investment advice compiiance security act section b pubiisher newsietter contracted receive one hundred thousand ar third party officer director affiiiate shareholder circulation report aware inherent confiict interest resulting compensation due fact paid advertisement without bias party paid u position stock sel anytime without notice couid negative impact price stock causing ose money factua information report gathered pubiic source inciuding imited sec filing company website company press release pubiisher newsletter beiieves information reliabie make guarantee accuracy completeness use materia within emai constitutes acceptance term wish stop future mailing fee wrongfuliy placed membership please go send blank e mai thanks subject stock yahoo com\"\n        ],\n        \"semantic_type\": \"\",\n        \"description\": \"\"\n      }\n    },\n    {\n      \"column\": \"spam_keyword_count\",\n      \"properties\": {\n        \"dtype\": \"number\",\n        \"std\": 6,\n        \"min\": 0,\n        \"max\": 1349,\n        \"num_unique_values\": 107,\n        \"samples\": [\n          169,\n          19\n        ],\n        \"semantic_type\": \"\",\n        \"description\": \"\"\n      }\n    },\n    {\n      \"column\": \"contains_spam_phrases\",\n      \"properties\": {\n        \"dtype\": \"number\",\n        \"std\": 0,\n        \"min\": 0,\n        \"max\": 1,\n        \"num_unique_values\": 2,\n        \"samples\": [\n          1,\n          0\n        ],\n        \"semantic_type\": \"\",\n        \"description\": \"\"\n      }\n    },\n    {\n      \"column\": \"contains_discount\",\n      \"properties\": {\n        \"dtype\": \"number\",\n        \"std\": 0,\n        \"min\": 0,\n        \"max\": 0,\n        \"num_unique_values\": 1,\n        \"samples\": [\n          0\n        ],\n        \"semantic_type\": \"\",\n        \"description\": \"\"\n      }\n    },\n    {\n      \"column\": \"total_spam_indicators\",\n      \"properties\": {\n        \"dtype\": \"number\",\n        \"std\": 6,\n        \"min\": 0,\n        \"max\": 1349,\n        \"num_unique_values\": 107,\n        \"samples\": [\n          92\n        ],\n        \"semantic_type\": \"\",\n        \"description\": \"\"\n      }\n    }\n  ]\n}"
            }
          },
          "metadata": {},
          "execution_count": 17
        }
      ]
    },
    {
      "cell_type": "markdown",
      "source": [
        "The total spam indicators are significantly higher for the Spam category, indicating that these metrics are effective for distinguishing spam from non-spam messages.\n",
        "\n",
        "Ham messages generally have lower total spam indicators, supporting the notion that these metrics are less frequent in non-spam messages."
      ],
      "metadata": {
        "id": "BgUcWcAWRC42"
      }
    },
    {
      "cell_type": "code",
      "source": [
        "phrase_presence = df.groupby('label')['contains_spam_phrases'].mean()\n",
        "print(\"Average presence of spam phrases:\")\n",
        "print(phrase_presence)\n",
        "\n",
        "# Bar plot\n",
        "sns.barplot(x=['Ham', 'Spam'], y=phrase_presence.values, palette='mako')\n",
        "plt.title(\"Average Spam Phrase Presence by Label\")\n",
        "plt.ylabel(\"Average Presence\")\n",
        "plt.show()\n"
      ],
      "metadata": {
        "colab": {
          "base_uri": "https://localhost:8080/",
          "height": 539
        },
        "id": "xsTuaAZTLftz",
        "outputId": "c583353d-da6b-4fc5-a383-5fd82abc837f"
      },
      "execution_count": 19,
      "outputs": [
        {
          "output_type": "stream",
          "name": "stdout",
          "text": [
            "Average presence of spam phrases:\n",
            "label\n",
            "0    0.000835\n",
            "1    0.007903\n",
            "Name: contains_spam_phrases, dtype: float64\n"
          ]
        },
        {
          "output_type": "display_data",
          "data": {
            "text/plain": [
              "<Figure size 640x480 with 1 Axes>"
            ],
            "image/png": "[encoded data removed]"
          },
          "metadata": {}
        }
      ]
    },
    {
      "cell_type": "markdown",
      "source": [
        "The presence of spam phrases is a strong indicator of spam messages. The high\n",
        "average presence of these phrases in the Spam category supports this.\n",
        "\n",
        "The non-zero value for the Ham category suggests that some legitimate messages might still contain phrases typically associated with spam. This can lead to false positives in spam detection."
      ],
      "metadata": {
        "id": "ekDIDs6QQmJY"
      }
    },
    {
      "cell_type": "code",
      "source": [
        "import matplotlib.pyplot as plt\n",
        "\n",
        "# Bar chart for spam keyword count\n",
        "plt.figure(figsize=(12, 6))\n",
        "plt.bar(df.index[:20], df['spam_keyword_count'][:20], color='skyblue', edgecolor='black')\n",
        "plt.xlabel(\"Email Index\")\n",
        "plt.ylabel(\"Spam Keyword Count\")\n",
        "plt.title(\"Spam Keyword Count in Emails (Top 20)\")\n",
        "plt.xticks(df.index[:20])\n",
        "plt.show()\n"
      ],
      "metadata": {
        "colab": {
          "base_uri": "https://localhost:8080/",
          "height": 564
        },
        "id": "CTJQJehwrWsp",
        "outputId": "07d6557a-1e94-4977-87f5-16282d1e5bdd"
      },
      "execution_count": 38,
      "outputs": [
        {
          "output_type": "display_data",
          "data": {
            "text/plain": [
              "<Figure size 1200x600 with 1 Axes>"
            ],
            "image/png": "[encoded data removed]"
          },
          "metadata": {}
        }
      ]
    },
    {
      "cell_type": "code",
      "source": [
        "corr_matrix = df[['spam_keyword_count', 'contains_spam_phrases', 'contains_discount', 'total_spam_indicators', 'label']].corr()\n",
        "sns.heatmap(corr_matrix, annot=True, cmap='Blues', fmt='.2f')\n",
        "plt.title(\"Correlation Heatmap\")\n",
        "plt.show()"
      ],
      "metadata": {
        "colab": {
          "base_uri": "https://localhost:8080/",
          "height": 604
        },
        "id": "-XwakfysNXXa",
        "outputId": "1ceb0518-f98c-46b2-ae61-1dc8d5493b5a"
      },
      "execution_count": 20,
      "outputs": [
        {
          "output_type": "display_data",
          "data": {
            "text/plain": [
              "<Figure size 640x480 with 2 Axes>"
            ],
            "image/png": "[encoded data removed]"
          },
          "metadata": {}
        }
      ]
    },
    {
      "cell_type": "markdown",
      "source": [
        "The heatmap highlights the importance of the spam_keyword_count and total_spam_indicators features in spam detection."
      ],
      "metadata": {
        "id": "gsqSuC0dpILp"
      }
    },
    {
      "cell_type": "code",
      "source": [
        "print(\"Statistical Summary by Label:\")\n",
        "print(df.groupby('label')[['spam_keyword_count', 'total_spam_indicators']].describe())"
      ],
      "metadata": {
        "colab": {
          "base_uri": "https://localhost:8080/"
        },
        "id": "YizUQ087NXLL",
        "outputId": "010a75b1-a97b-45e3-ead3-f86305ff82c9"
      },
      "execution_count": 21,
      "outputs": [
        {
          "output_type": "stream",
          "name": "stdout",
          "text": [
            "Statistical Summary by Label:\n",
            "      spam_keyword_count                                                  \\\n",
            "                   count      mean       std  min  25%  50%  75%     max   \n",
            "label                                                                      \n",
            "0                39538.0  1.499823  8.685942  0.0  0.0  0.0  1.0  1349.0   \n",
            "1                43910.0  1.526759  4.633642  0.0  0.0  1.0  2.0   561.0   \n",
            "\n",
            "      total_spam_indicators                                                  \n",
            "                      count      mean       std  min  25%  50%  75%     max  \n",
            "label                                                                        \n",
            "0                   39538.0  1.500658  8.686758  0.0  0.0  0.0  1.0  1349.0  \n",
            "1                   43910.0  1.534662  4.641550  0.0  0.0  1.0  2.0   561.0  \n"
          ]
        }
      ]
    },
    {
      "cell_type": "code",
      "source": [
        "# Step 3: Text Vectorization (TF-IDF)\n",
        "# Convert email text into numerical vectors using TF-IDF (Text Frequency-Inverse Document Frequency)\n",
        "vectorizer = TfidfVectorizer(max_features=5000)\n",
        "X_tfidf = vectorizer.fit_transform(df['cleaned_email'])  # Transform the cleaned text"
      ],
      "metadata": {
        "id": "dQrJmmADoG9F"
      },
      "execution_count": 22,
      "outputs": []
    },
    {
      "cell_type": "code",
      "source": [
        "# Step 4: Combine Features\n",
        "# Add numerical spam indicators as additional features to the TF-IDF vectors\n",
        "from scipy.sparse import hstack\n",
        "X_combined = hstack([\n",
        "    X_tfidf,\n",
        "    df[['spam_keyword_count', 'total_spam_indicators']].values\n",
        "])\n",
        "y = df['label']  # Labels (spam=1, non-spam=0)\n"
      ],
      "metadata": {
        "id": "0JDkKHHMoG7E"
      },
      "execution_count": 23,
      "outputs": []
    },
    {
      "cell_type": "code",
      "source": [
        "# Step 5: Train-Test Split\n",
        "# Split the data into training and test sets (80% for training, 20% for testing)\n",
        "X_train, X_test, y_train, y_test = train_test_split(X_combined, y, test_size=0.2, random_state=42)"
      ],
      "metadata": {
        "id": "S-xwxO-ToG4w"
      },
      "execution_count": 24,
      "outputs": []
    },
    {
      "cell_type": "code",
      "source": [
        "print(X_train.shape)  # Check the shape after combining\n",
        "print(X_test.shape)"
      ],
      "metadata": {
        "colab": {
          "base_uri": "https://localhost:8080/"
        },
        "id": "q-FMmIK_df7r",
        "outputId": "ab6426d6-40e0-44f6-e092-b9756bf8f142"
      },
      "execution_count": 25,
      "outputs": [
        {
          "output_type": "stream",
          "name": "stdout",
          "text": [
            "(66758, 5002)\n",
            "(16690, 5002)\n"
          ]
        }
      ]
    },
    {
      "cell_type": "code",
      "source": [
        "from sklearn.model_selection import RandomizedSearchCV\n",
        "# Step 6: Hyperparameter Tuning for Logistic Regression using RandomizedSearchCV\n",
        "# Define a grid of hyperparameters for tuning\n",
        "log_reg_params = {\n",
        "    'C': [0.1, 1, 10, 100, 1000],  # Regularization strength\n",
        "    'solver': ['liblinear', 'lbfgs', 'saga'],  # Optimization algorithms\n",
        "    'penalty': ['l2', 'none']  # Regularization type\n",
        "}\n",
        "\n",
        "log_reg = LogisticRegression()  # Initialize Logistic Regression model\n",
        "\n",
        "# Initialize RandomizedSearchCV\n",
        "log_reg_cv = RandomizedSearchCV(\n",
        "    log_reg, log_reg_params, n_iter=10, scoring='accuracy', cv=5, verbose=1, n_jobs=-1, random_state=42\n",
        ")\n",
        "\n",
        "# Perform hyperparameter tuning\n",
        "log_reg_cv.fit(X_train, y_train)\n",
        "\n",
        "# Print the best parameters found during random search\n",
        "print(\"Best Logistic Regression Parameters: \", log_reg_cv.best_params_)\n"
      ],
      "metadata": {
        "colab": {
          "base_uri": "https://localhost:8080/"
        },
        "id": "PfvVuHILoG2m",
        "outputId": "4e74b37f-8648-4ea5-843a-7d517b9aa443"
      },
      "execution_count": 26,
      "outputs": [
        {
          "output_type": "stream",
          "name": "stdout",
          "text": [
            "Fitting 5 folds for each of 10 candidates, totalling 50 fits\n",
            "Best Logistic Regression Parameters:  {'solver': 'liblinear', 'penalty': 'l2', 'C': 10}\n"
          ]
        }
      ]
    },
    {
      "cell_type": "code",
      "source": [
        "# Make predictions with the best Logistic Regression model\n",
        "log_reg_pred = log_reg_cv.best_estimator_.predict(X_test)"
      ],
      "metadata": {
        "id": "LVPgDgcaoG0F"
      },
      "execution_count": 27,
      "outputs": []
    },
    {
      "cell_type": "code",
      "source": [
        "import matplotlib.pyplot as plt\n",
        "from sklearn.metrics import classification_report, confusion_matrix, ConfusionMatrixDisplay\n",
        "# Step 7: Model Evaluation\n",
        "# Function to evaluate models using classification reports and confusion matrices\n",
        "def evaluate_model(name, y_test, y_pred):\n",
        "    print(f\"{name} Classification Report:\\n\")\n",
        "    print(classification_report(y_test, y_pred))  # Display precision, recall, f1-score\n",
        "\n",
        "    # Confusion Matrix\n",
        "    cm = confusion_matrix(y_test, y_pred)  # Generate confusion matrix\n",
        "    disp = ConfusionMatrixDisplay(confusion_matrix=cm)  # Create ConfusionMatrixDisplay object\n",
        "    disp.plot(cmap='Blues', values_format='d')\n",
        "    plt.title(f\"{name} - Confusion Matrix\")\n",
        "    plt.show()"
      ],
      "metadata": {
        "id": "sjIHO8-PoGvn"
      },
      "execution_count": 28,
      "outputs": []
    },
    {
      "cell_type": "code",
      "source": [
        "# Evaluate Logistic Regression\n",
        "evaluate_model(\"Logistic Regression\", y_test, log_reg_pred)"
      ],
      "metadata": {
        "colab": {
          "base_uri": "https://localhost:8080/",
          "height": 663
        },
        "id": "9q16W-X3oGtc",
        "outputId": "d60546a0-39ac-4e15-a585-25725d59bf30"
      },
      "execution_count": 29,
      "outputs": [
        {
          "output_type": "stream",
          "name": "stdout",
          "text": [
            "Logistic Regression Classification Report:\n",
            "\n",
            "              precision    recall  f1-score   support\n",
            "\n",
            "           0       0.99      0.98      0.98      7938\n",
            "           1       0.98      0.99      0.99      8752\n",
            "\n",
            "    accuracy                           0.99     16690\n",
            "   macro avg       0.99      0.99      0.99     16690\n",
            "weighted avg       0.99      0.99      0.99     16690\n",
            "\n"
          ]
        },
        {
          "output_type": "display_data",
          "data": {
            "text/plain": [
              "<Figure size 640x480 with 2 Axes>"
            ],
            "image/png": "[encoded data removed]"
          },
          "metadata": {}
        }
      ]
    },
    {
      "cell_type": "markdown",
      "source": [
        "The Logistic Regression model was evaluated on a dataset of 16,690 samples, with a binary classification task where the target variable represents spam (1) and non-spam (0) emails.\n",
        "\n",
        "Key Metrics:\n",
        "\n",
        "Precision: The precision for non-spam (class 0) is 0.99, and for spam (class 1) is 0.98, indicating that the model is effective in correctly identifying both classes.\n",
        "\n",
        "Recall: The recall for non-spam is 0.98, and for spam is 0.99, suggesting that the model is highly sensitive to both classes and detects almost all of them.\n",
        "\n",
        "F1-Score: The F1-scores are 0.98 for non-spam and 0.99 for spam, balancing precision and recall, demonstrating that the model performs well across both classes.\n",
        "\n",
        "Accuracy: The overall accuracy of the model is 0.99, indicating a very high classification performance.\n",
        "\n",
        "Class Breakdown:\n",
        "\n",
        "The non-spam consists of 7,938 samples, with the model achieving a precision of 0.99 and a recall of 0.98.\n",
        "\n",
        "The spam consists of 8,752 samples, with the model achieving a precision of 0.98 and a recall of 0.99.\n",
        "\n",
        "Averages:\n",
        "\n",
        "Macro Average: The macro average for precision, recall, and F1-score are all 0.99, reflecting balanced performance across both classes.\n",
        "\n",
        "Weighted Average: The weighted averages for precision, recall, and F1-score are also 0.99, accounting for the class imbalances.\n",
        "\n",
        "Conclusion:\n",
        "\n",
        "The Logistic Regression model demonstrates excellent performance in classifying spam and non-spam emails with high accuracy, precision, recall, and F1-score. Both classes are well-identified with minimal misclassification, making the model highly suitable for this task"
      ],
      "metadata": {
        "id": "cOnj7aWuHFdp"
      }
    },
    {
      "cell_type": "code",
      "source": [
        "# Show predictions and actual values as a DataFrame\n",
        "predictions_df = pd.DataFrame({\n",
        "    'Predictions': log_reg_pred[:10],\n",
        "    'Actual': y_test[:10].values\n",
        "})\n",
        "\n",
        "print(predictions_df)"
      ],
      "metadata": {
        "colab": {
          "base_uri": "https://localhost:8080/"
        },
        "id": "QR6DGkjyev9e",
        "outputId": "a7b685fa-7b4b-44e9-ff84-92b10298ac10"
      },
      "execution_count": 30,
      "outputs": [
        {
          "output_type": "stream",
          "name": "stdout",
          "text": [
            "   Predictions  Actual\n",
            "0            0       0\n",
            "1            1       1\n",
            "2            1       1\n",
            "3            1       1\n",
            "4            0       0\n",
            "5            0       1\n",
            "6            1       1\n",
            "7            1       1\n",
            "8            0       0\n",
            "9            0       0\n"
          ]
        }
      ]
    },
    {
      "cell_type": "code",
      "source": [
        "# Extract the first 10 email texts from the original DataFrame `df`\n",
        "emails = df.iloc[y_test.index[:10]]['text']\n",
        "\n",
        "# Create a DataFrame with the predictions, actual labels, and email text\n",
        "predictions_df = pd.DataFrame({\n",
        "    'Predictions': log_reg_pred[:10],\n",
        "    'Actual': y_test[:10].values,\n",
        "    'Email Text': emails\n",
        "})\n",
        "\n",
        "# Show the DataFrame\n",
        "print(predictions_df)\n"
      ],
      "metadata": {
        "colab": {
          "base_uri": "https://localhost:8080/"
        },
        "id": "JwGxF9F2fRyQ",
        "outputId": "4f596004-82f3-474c-aedb-e223cfb5d588"
      },
      "execution_count": 31,
      "outputs": [
        {
          "output_type": "stream",
          "name": "stdout",
          "text": [
            "       Predictions  Actual                                         Email Text\n",
            "67681            0       0  accuweather escapenumber day forecast for beve...\n",
            "61385            1       1  dear in christ the time has come for christian...\n",
            "41829            1       1  hallway cosponsor pry reimbursable coat clumsy...\n",
            "29172            1       1  does size matter' escapenumber of women said t...\n",
            "35274            0       0  along zeng wrote hi all is there levene' test ...\n",
            "6695             0       1  i'm about eighty percent sure chuckwalla anemo...\n",
            "41685            1       1  dear reader ,\\nwe are writing you on behalf of...\n",
            "13023            1       1  hi kedda you've just received a postcard to vi...\n",
            "62253            0       0   escapenumber escapenumber escapenumber home u...\n",
            "38356            0       0  on sat may escapenumber escapenumber at escape...\n"
          ]
        }
      ]
    },
    {
      "cell_type": "code",
      "source": [
        "single_email_text = \"\"\"\n",
        "Dear John,\n",
        "\n",
        "I hope this message finds you well. I wanted to follow up on our recent meeting and discuss the next steps for our project. Please let me know your availability this week so we can schedule the next session.\n",
        "\n",
        "Looking forward to hearing from you soon.\n",
        "\n",
        "Best regards,\n",
        "Alice\n",
        "\"\"\"\n",
        "\n",
        "cleaned_single_email = clean_text(single_email_text)\n",
        "single_email_tfidf = vectorizer.transform([cleaned_single_email])\n",
        "spam_keyword_count_single = count_spam_keywords(single_email_text)\n",
        "contains_spam_phrases_single = detect_spam_phrases(single_email_text)\n",
        "contains_discount_single = contains_discount(single_email_text)\n",
        "total_spam_indicators_single = spam_keyword_count_single + contains_spam_phrases_single + contains_discount_single\n",
        "X_single = hstack([\n",
        "    single_email_tfidf,\n",
        "    [[spam_keyword_count_single, total_spam_indicators_single]]\n",
        "])\n",
        "prediction = log_reg_cv.best_estimator_.predict(X_single)\n",
        "prediction_label = \"Spam\" if prediction[0] == 1 else \"Ham\"\n",
        "print(\"Predicted label:\", prediction_label)\n"
      ],
      "metadata": {
        "colab": {
          "base_uri": "https://localhost:8080/"
        },
        "id": "GIgoW7NNmQVk",
        "outputId": "1e6fbf66-0a60-4849-de28-08ddeaf38af9"
      },
      "execution_count": 32,
      "outputs": [
        {
          "output_type": "stream",
          "name": "stdout",
          "text": [
            "Predicted label: Ham\n"
          ]
        }
      ]
    },
    {
      "cell_type": "code",
      "source": [
        "# Hyperparameter Tuning for Decision Tree using RandomizedSearchCV\n",
        "# Define a grid of hyperparameters for tuning\n",
        "from sklearn.tree import DecisionTreeClassifier\n",
        "dt_params = {\n",
        "    'max_depth': [5, 10, 15, None],  # Maximum depth of the tree\n",
        "    'min_samples_split': [2, 5, 10],  # Minimum samples required to split a node\n",
        "    'min_samples_leaf': [1, 2, 4],  # Minimum samples required at a leaf node\n",
        "    'criterion': ['gini', 'entropy'],  # Split criterion\n",
        "}\n",
        "\n",
        "dt = DecisionTreeClassifier()  # Initialize Decision Tree model\n",
        "\n",
        "# Initialize RandomizedSearchCV\n",
        "dt_cv = RandomizedSearchCV(\n",
        "    dt, dt_params, n_iter=10, scoring='accuracy', cv=5, verbose=1, n_jobs=-1, random_state=42\n",
        ")\n",
        "\n",
        "# Perform hyperparameter tuning\n",
        "dt_cv.fit(X_train, y_train)\n",
        "\n",
        "# Print the best parameters found during random search\n",
        "print(\"Best Decision Tree Parameters: \", dt_cv.best_params_)\n",
        "\n",
        "# Make predictions with the best Decision Tree model\n",
        "dt_pred = dt_cv.best_estimator_.predict(X_test)"
      ],
      "metadata": {
        "id": "JeI4LRH6oGoz",
        "colab": {
          "base_uri": "https://localhost:8080/"
        },
        "outputId": "f689ffc0-90b9-4842-ef3c-067882673bd5"
      },
      "execution_count": 33,
      "outputs": [
        {
          "output_type": "stream",
          "name": "stdout",
          "text": [
            "Fitting 5 folds for each of 10 candidates, totalling 50 fits\n",
            "Best Decision Tree Parameters:  {'min_samples_split': 5, 'min_samples_leaf': 1, 'max_depth': None, 'criterion': 'gini'}\n"
          ]
        }
      ]
    },
    {
      "cell_type": "code",
      "source": [
        "# Evaluate Decision Tree\n",
        "evaluate_model(\"Decision Tree\", y_test, dt_pred)"
      ],
      "metadata": {
        "id": "Sh92SfVKoGm3",
        "colab": {
          "base_uri": "https://localhost:8080/",
          "height": 663
        },
        "outputId": "bc167334-38c5-40b1-af2c-70b7a0a03bff"
      },
      "execution_count": 34,
      "outputs": [
        {
          "output_type": "stream",
          "name": "stdout",
          "text": [
            "Decision Tree Classification Report:\n",
            "\n",
            "              precision    recall  f1-score   support\n",
            "\n",
            "           0       0.96      0.96      0.96      7938\n",
            "           1       0.96      0.96      0.96      8752\n",
            "\n",
            "    accuracy                           0.96     16690\n",
            "   macro avg       0.96      0.96      0.96     16690\n",
            "weighted avg       0.96      0.96      0.96     16690\n",
            "\n"
          ]
        },
        {
          "output_type": "display_data",
          "data": {
            "text/plain": [
              "<Figure size 640x480 with 2 Axes>"
            ],
            "image/png": "[encoded data removed]"
          },
          "metadata": {}
        }
      ]
    },
    {
      "cell_type": "markdown",
      "source": [
        "Decision Tree Classification Report Summary\n",
        "\n",
        "The Decision Tree model achieved an overall accuracy of 96% on the test dataset, demonstrating robust performance in classifying emails as spam or ham.\n",
        "\n",
        "Performance Metrics:\n",
        "\n",
        "Precision: Both spam and ham emails had a precision of 96%, indicating a low rate of false positives.\n",
        "\n",
        "Recall: Both classes had a recall of 96%, reflecting the model's effectiveness in capturing true positives.\n",
        "\n",
        "F1-Score: The F1-score was 96% for both classes, signifying a good balance between precision and recall.\n",
        "\n",
        "Insights:\n",
        "\n",
        "The model performed equally well for both spam and ham emails, as indicated by the macro average and weighted average values.\n",
        "\n",
        "This makes the Decision Tree model a reliable choice for this classification problem, though additional tuning or comparison with other models could further optimize results."
      ],
      "metadata": {
        "id": "Hs_5UJxnvgPC"
      }
    },
    {
      "cell_type": "code",
      "source": [
        "# Show predictions and actual values as a DataFrame\n",
        "predictions_df_dt = pd.DataFrame({\n",
        "    'Predictions': dt_pred[:10],\n",
        "    'Actual': y_test[:10].values\n",
        "})\n",
        "\n",
        "print(predictions_df_dt)"
      ],
      "metadata": {
        "id": "DbzxbktzoGk7",
        "colab": {
          "base_uri": "https://localhost:8080/"
        },
        "outputId": "93aafbc7-1032-4f2e-9bab-4dd217ac23de"
      },
      "execution_count": 35,
      "outputs": [
        {
          "output_type": "stream",
          "name": "stdout",
          "text": [
            "   Predictions  Actual\n",
            "0            0       0\n",
            "1            1       1\n",
            "2            1       1\n",
            "3            1       1\n",
            "4            0       0\n",
            "5            1       1\n",
            "6            1       1\n",
            "7            1       1\n",
            "8            0       0\n",
            "9            0       0\n"
          ]
        }
      ]
    },
    {
      "cell_type": "code",
      "source": [
        "# Extract the first 10 email texts from the original DataFrame `df`\n",
        "emails = df.iloc[y_test.index[:10]]['text']\n",
        "\n",
        "# Create a DataFrame with the predictions, actual labels, and email text\n",
        "predictions_df_dt = pd.DataFrame({\n",
        "    'Predictions': dt_pred[:10],\n",
        "    'Actual': y_test[:10].values,\n",
        "    'Email Text': emails\n",
        "})\n",
        "\n",
        "# Show the DataFrame\n",
        "print(predictions_df_dt)\n"
      ],
      "metadata": {
        "id": "NIkjEs1BoGiP",
        "colab": {
          "base_uri": "https://localhost:8080/"
        },
        "outputId": "e68d3019-7da9-4546-9318-47268ed49d24"
      },
      "execution_count": 36,
      "outputs": [
        {
          "output_type": "stream",
          "name": "stdout",
          "text": [
            "       Predictions  Actual                                         Email Text\n",
            "67681            0       0  accuweather escapenumber day forecast for beve...\n",
            "61385            1       1  dear in christ the time has come for christian...\n",
            "41829            1       1  hallway cosponsor pry reimbursable coat clumsy...\n",
            "29172            1       1  does size matter' escapenumber of women said t...\n",
            "35274            0       0  along zeng wrote hi all is there levene' test ...\n",
            "6695             1       1  i'm about eighty percent sure chuckwalla anemo...\n",
            "41685            1       1  dear reader ,\\nwe are writing you on behalf of...\n",
            "13023            1       1  hi kedda you've just received a postcard to vi...\n",
            "62253            0       0   escapenumber escapenumber escapenumber home u...\n",
            "38356            0       0  on sat may escapenumber escapenumber at escape...\n"
          ]
        }
      ]
    },
    {
      "cell_type": "code",
      "source": [
        "single_email_text = \"\"\"\n",
        "Dear John,\n",
        "\n",
        "I hope this message finds you well. I wanted to follow up on our recent meeting and discuss the next steps for our project. Please let me know your availability this week so we can schedule the next session.\n",
        "\n",
        "Looking forward to hearing from you soon.\n",
        "\n",
        "Best regards,\n",
        "Alice\n",
        "\"\"\"\n",
        "\n",
        "cleaned_single_email = clean_text(single_email_text)\n",
        "single_email_tfidf = vectorizer.transform([cleaned_single_email])\n",
        "spam_keyword_count_single = count_spam_keywords(single_email_text)\n",
        "contains_spam_phrases_single = detect_spam_phrases(single_email_text)\n",
        "contains_discount_single = contains_discount(single_email_text)\n",
        "total_spam_indicators_single = spam_keyword_count_single + contains_spam_phrases_single + contains_discount_single\n",
        "X_single = hstack([\n",
        "    single_email_tfidf,\n",
        "    [[spam_keyword_count_single, total_spam_indicators_single]]\n",
        "])\n",
        "prediction = dt_cv.best_estimator_.predict(X_single)\n",
        "prediction_label = \"Spam\" if prediction[0] == 1 else \"Ham\"\n",
        "print(\"Predicted label:\", prediction_label)\n"
      ],
      "metadata": {
        "id": "tK2adhNZoGfy",
        "colab": {
          "base_uri": "https://localhost:8080/"
        },
        "outputId": "804c5503-b4d4-4fc2-a180-3ab534faca17"
      },
      "execution_count": 37,
      "outputs": [
        {
          "output_type": "stream",
          "name": "stdout",
          "text": [
            "Predicted label: Ham\n"
          ]
        }
      ]
    },
    {
      "cell_type": "markdown",
      "source": [
        "# **Conclusion**\n",
        "\n",
        "The **Logistic Regression model** is the superior choice for spam email classification, offering higher accuracy (99%) and better-balanced performance metrics across both classes. The Decision Tree model, with an accuracy of 96%, is still a reliable alternative but falls slightly short compared to Logistic Regression."
      ],
      "metadata": {
        "id": "ceNeT_bsxDnq"
      }
    }
  ]
}